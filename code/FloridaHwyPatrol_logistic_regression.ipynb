{
 "cells": [
  {
   "cell_type": "code",
   "execution_count": 1,
   "metadata": {},
   "outputs": [],
   "source": [
    "import pandas as pd\n",
    "pd.set_option('display.max_columns', 500)\n",
    "pd.set_option('display.width', 1000)\n",
    "import numpy as np\n",
    "\n",
    "from sklearn.model_selection import train_test_split, KFold, cross_val_score\n",
    "from sklearn.preprocessing import StandardScaler\n",
    "from sklearn.linear_model import LogisticRegression\n",
    "from sklearn.ensemble import RandomForestClassifier\n",
    "import xgboost as xgb\n",
    "from sklearn.metrics import accuracy_score, precision_score, recall_score, f1_score\n",
    "from sklearn.metrics import confusion_matrix, roc_curve, roc_auc_score, classification_report\n",
    "\n",
    "import matplotlib.pyplot as plt\n",
    "import seaborn as sns\n",
    "\n",
    "rs = 42"
   ]
  },
  {
   "cell_type": "markdown",
   "metadata": {},
   "source": [
    "### Cross Validation Function"
   ]
  },
  {
   "cell_type": "code",
   "execution_count": 9,
   "metadata": {},
   "outputs": [],
   "source": [
    "def cross_validate(X, y, model, scale=True, rs=42, holdout=False):\n",
    "    \n",
    "    # If test set not already held out, create, otherwise use all the data\n",
    "    if holdout:\n",
    "        X, X_test, y, y_test = train_test_split(X, y, test_size=.2, random_state=rs)\n",
    "    \n",
    "    # Default is to scale\n",
    "    if scale:\n",
    "        sc = StandardScaler()\n",
    "        X = sc.fit_transform(X)\n",
    "    \n",
    "    kfolds = KFold(n_splits=5, shuffle=True, random_state=rs)\n",
    "    \n",
    "    acc = []\n",
    "    pre = []\n",
    "    rec = []\n",
    "    f1 = []\n",
    "    roc = []\n",
    "    \n",
    "    for train_ind, val_ind in kfolds.split(X, y):\n",
    "        X_train, y_train = X[train_ind], y[train_ind] # pull out the training folds\n",
    "        X_val, y_val = X[val_ind], y[val_ind] # pull out the validation folds\n",
    "        \n",
    "        if scale:\n",
    "            X_val = sc.transform(X_val)\n",
    "        \n",
    "        model.fit(X_train, y_train)\n",
    "        pred_hard = model.predict(X_val)\n",
    "        pred_soft = model.predict_proba(X_val)[:, 1]\n",
    "        \n",
    "        acc.append(accuracy_score(y_val, pred_hard))\n",
    "        pre.append(precision_score(y_val, pred_hard))\n",
    "        rec.append(recall_score(y_val, pred_hard))\n",
    "        f1.append(f1_score(y_val, pred_hard))\n",
    "        roc.append(roc_auc_score(y_val, pred_soft))\n",
    "        \n",
    "    print(f'Mean Accuracy: {np.mean(acc):.2f} +- {np.std(acc):.3f}')\n",
    "    print(f'Mean Recall: {np.mean(rec):.2f} +- {np.std(rec):.3f}')\n",
    "    print(f'Mean Precision: {np.mean(pre):.2f} +- {np.std(pre):.3f}')\n",
    "    print(f'Mean F1: {np.mean(f1):.2f} +- {np.std(f1):.3f}')\n",
    "    print(f'Mean ROC AUC: {np.mean(roc):.2f} +- {np.std(roc):.3f}')\n",
    "    \n",
    "    return pred_hard # take the last set of predictions for confusion matrix"
   ]
  },
  {
   "cell_type": "markdown",
   "metadata": {},
   "source": [
    "# First Base Model - Demographic Features Only"
   ]
  },
  {
   "cell_type": "markdown",
   "metadata": {},
   "source": [
    "First, try a very small set of features. Let's see how we can do just using demographic information."
   ]
  },
  {
   "cell_type": "code",
   "execution_count": 2,
   "metadata": {},
   "outputs": [],
   "source": [
    "cols2keep = ['outcome', 'subject_age', 'subject_race', 'subject_sex', 'officer_age', 'officer_race', 'officer_sex']\n",
    "cols2dum = ['subject_race', 'subject_sex', 'officer_race', 'officer_sex']\n",
    "\n",
    "df_fl_dropnas = pd.read_pickle('data/df_fl_dropnas.pkl')\n",
    "df_fl_sub = df_fl_dropnas[cols2keep]\n",
    "del df_fl_dropnas # for memory purposes"
   ]
  },
  {
   "cell_type": "markdown",
   "metadata": {},
   "source": [
    "Dummify the categoricals"
   ]
  },
  {
   "cell_type": "code",
   "execution_count": 3,
   "metadata": {},
   "outputs": [],
   "source": [
    "df_fl_sub_dums = pd.get_dummies(df_fl_sub, columns=cols2dum, prefix=cols2dum, drop_first=True)\n",
    "del df_fl_sub"
   ]
  },
  {
   "cell_type": "code",
   "execution_count": 4,
   "metadata": {},
   "outputs": [
    {
     "data": {
      "text/html": [
       "<div>\n",
       "<style scoped>\n",
       "    .dataframe tbody tr th:only-of-type {\n",
       "        vertical-align: middle;\n",
       "    }\n",
       "\n",
       "    .dataframe tbody tr th {\n",
       "        vertical-align: top;\n",
       "    }\n",
       "\n",
       "    .dataframe thead th {\n",
       "        text-align: right;\n",
       "    }\n",
       "</style>\n",
       "<table border=\"1\" class=\"dataframe\">\n",
       "  <thead>\n",
       "    <tr style=\"text-align: right;\">\n",
       "      <th></th>\n",
       "      <th>outcome</th>\n",
       "      <th>subject_age</th>\n",
       "      <th>officer_age</th>\n",
       "      <th>subject_race_black</th>\n",
       "      <th>subject_race_hispanic</th>\n",
       "      <th>subject_race_other/unknown</th>\n",
       "      <th>subject_race_white</th>\n",
       "      <th>subject_sex_male</th>\n",
       "      <th>officer_race_black</th>\n",
       "      <th>officer_race_hispanic</th>\n",
       "      <th>officer_race_other/unknown</th>\n",
       "      <th>officer_race_white</th>\n",
       "      <th>officer_sex_male</th>\n",
       "    </tr>\n",
       "  </thead>\n",
       "  <tbody>\n",
       "    <tr>\n",
       "      <th>1</th>\n",
       "      <td>citation</td>\n",
       "      <td>23.0</td>\n",
       "      <td>31.0</td>\n",
       "      <td>0</td>\n",
       "      <td>0</td>\n",
       "      <td>0</td>\n",
       "      <td>1</td>\n",
       "      <td>0</td>\n",
       "      <td>1</td>\n",
       "      <td>0</td>\n",
       "      <td>0</td>\n",
       "      <td>0</td>\n",
       "      <td>1</td>\n",
       "    </tr>\n",
       "    <tr>\n",
       "      <th>2</th>\n",
       "      <td>arrest</td>\n",
       "      <td>45.0</td>\n",
       "      <td>29.0</td>\n",
       "      <td>0</td>\n",
       "      <td>0</td>\n",
       "      <td>0</td>\n",
       "      <td>1</td>\n",
       "      <td>0</td>\n",
       "      <td>0</td>\n",
       "      <td>0</td>\n",
       "      <td>0</td>\n",
       "      <td>1</td>\n",
       "      <td>1</td>\n",
       "    </tr>\n",
       "    <tr>\n",
       "      <th>3</th>\n",
       "      <td>arrest</td>\n",
       "      <td>41.0</td>\n",
       "      <td>26.0</td>\n",
       "      <td>0</td>\n",
       "      <td>0</td>\n",
       "      <td>0</td>\n",
       "      <td>1</td>\n",
       "      <td>1</td>\n",
       "      <td>0</td>\n",
       "      <td>0</td>\n",
       "      <td>0</td>\n",
       "      <td>1</td>\n",
       "      <td>1</td>\n",
       "    </tr>\n",
       "    <tr>\n",
       "      <th>6</th>\n",
       "      <td>warning</td>\n",
       "      <td>26.0</td>\n",
       "      <td>47.0</td>\n",
       "      <td>0</td>\n",
       "      <td>0</td>\n",
       "      <td>0</td>\n",
       "      <td>1</td>\n",
       "      <td>1</td>\n",
       "      <td>0</td>\n",
       "      <td>0</td>\n",
       "      <td>0</td>\n",
       "      <td>1</td>\n",
       "      <td>1</td>\n",
       "    </tr>\n",
       "    <tr>\n",
       "      <th>8</th>\n",
       "      <td>warning</td>\n",
       "      <td>26.0</td>\n",
       "      <td>47.0</td>\n",
       "      <td>0</td>\n",
       "      <td>1</td>\n",
       "      <td>0</td>\n",
       "      <td>0</td>\n",
       "      <td>1</td>\n",
       "      <td>0</td>\n",
       "      <td>0</td>\n",
       "      <td>0</td>\n",
       "      <td>1</td>\n",
       "      <td>1</td>\n",
       "    </tr>\n",
       "  </tbody>\n",
       "</table>\n",
       "</div>"
      ],
      "text/plain": [
       "    outcome  subject_age  officer_age  subject_race_black  subject_race_hispanic  subject_race_other/unknown  subject_race_white  subject_sex_male  officer_race_black  officer_race_hispanic  officer_race_other/unknown  officer_race_white  officer_sex_male\n",
       "1  citation         23.0         31.0                   0                      0                           0                   1                 0                   1                      0                           0                   0                 1\n",
       "2    arrest         45.0         29.0                   0                      0                           0                   1                 0                   0                      0                           0                   1                 1\n",
       "3    arrest         41.0         26.0                   0                      0                           0                   1                 1                   0                      0                           0                   1                 1\n",
       "6   warning         26.0         47.0                   0                      0                           0                   1                 1                   0                      0                           0                   1                 1\n",
       "8   warning         26.0         47.0                   0                      1                           0                   0                 1                   0                      0                           0                   1                 1"
      ]
     },
     "execution_count": 4,
     "metadata": {},
     "output_type": "execute_result"
    }
   ],
   "source": [
    "df_fl_sub_dums.head()"
   ]
  },
  {
   "cell_type": "markdown",
   "metadata": {},
   "source": [
    "Binarize outcome, will start by doing binary classifier arrest vs. no arrest."
   ]
  },
  {
   "cell_type": "code",
   "execution_count": 5,
   "metadata": {},
   "outputs": [],
   "source": [
    "def binarize_outcome(df):\n",
    "    df['outcome'].replace(['warning', 'citation', 'arrest'], [0, 0, 1], inplace=True)\n",
    "    return df"
   ]
  },
  {
   "cell_type": "code",
   "execution_count": 6,
   "metadata": {},
   "outputs": [],
   "source": [
    "df_fl_sub_dums = binarize_outcome(df_fl_sub_dums)"
   ]
  },
  {
   "cell_type": "markdown",
   "metadata": {},
   "source": [
    "Set up a logistic regression on the demo df."
   ]
  },
  {
   "cell_type": "code",
   "execution_count": 7,
   "metadata": {},
   "outputs": [],
   "source": [
    "X = df_fl_sub_dums.drop('outcome', axis=1)\n",
    "y = df_fl_sub_dums['outcome']\n",
    "\n",
    "X_train_val, X_test, y_train_val, y_test = train_test_split(X, y, test_size=.2, random_state=rs)\n",
    "X_train, X_val, y_train, y_val = train_test_split(X_train_val, y_train_val, test_size=.25, random_state=rs)"
   ]
  },
  {
   "cell_type": "code",
   "execution_count": 8,
   "metadata": {},
   "outputs": [],
   "source": [
    "#base_logistic = LogisticRegression(class_weight={0: 1, 1: 15})\n",
    "#cross_validate(X_train_val, y_train_val, base_logistic)"
   ]
  },
  {
   "cell_type": "code",
   "execution_count": 9,
   "metadata": {},
   "outputs": [
    {
     "name": "stderr",
     "output_type": "stream",
     "text": [
      "/Users/markyramone/anaconda3/lib/python3.7/site-packages/sklearn/linear_model/logistic.py:432: FutureWarning: Default solver will be changed to 'lbfgs' in 0.22. Specify a solver to silence this warning.\n",
      "  FutureWarning)\n"
     ]
    },
    {
     "name": "stdout",
     "output_type": "stream",
     "text": [
      "Accuracy is 0.869\n",
      "Precision is 0.083\n",
      "Recall is 0.272\n",
      "F1 is 0.128\n"
     ]
    }
   ],
   "source": [
    "sc = StandardScaler()\n",
    "X_train_sc = sc.fit_transform(X_train)\n",
    "X_val_sc = sc.transform(X_val)\n",
    "\n",
    "base_logistic = LogisticRegression(class_weight={0: 1, 1: 15})\n",
    "base_logistic.fit(X_train_sc, y_train)\n",
    "preds = base_logistic.predict(X_val_sc)\n",
    "print(f'Accuracy is {round(accuracy_score(y_val, preds), 3)}')\n",
    "print(f'Precision is {round(precision_score(y_val, preds), 3)}')\n",
    "print(f'Recall is {round(recall_score(y_val, preds), 3)}')\n",
    "print(f'F1 is {round(f1_score(y_val, preds), 3)}')"
   ]
  },
  {
   "cell_type": "code",
   "execution_count": 10,
   "metadata": {},
   "outputs": [
    {
     "data": {
      "text/plain": [
       "[('subject_race_black', 0.486677809861436),\n",
       " ('subject_race_hispanic', 0.45573733033291963),\n",
       " ('subject_sex_male', 0.24862282642010394),\n",
       " ('subject_race_white', 0.2266030154699556),\n",
       " ('subject_race_other/unknown', 0.043786113496502535),\n",
       " ('officer_sex_male', -0.024971973488864815),\n",
       " ('officer_race_white', -0.031676825453349544),\n",
       " ('officer_race_other/unknown', -0.06260831979031777),\n",
       " ('officer_race_hispanic', -0.08848836266362188),\n",
       " ('officer_race_black', -0.09511245036824628),\n",
       " ('officer_age', -0.1798121496958717),\n",
       " ('subject_age', -0.4026714146037133)]"
      ]
     },
     "execution_count": 10,
     "metadata": {},
     "output_type": "execute_result"
    }
   ],
   "source": [
    "list(sorted(zip(X_val.columns, base_logistic.coef_[0]), key=lambda tup: tup[1], reverse=True))"
   ]
  },
  {
   "cell_type": "code",
   "execution_count": 11,
   "metadata": {},
   "outputs": [
    {
     "data": {
      "image/png": "[encoded data removed]",
      "text/plain": [
       "<Figure size 432x288 with 2 Axes>"
      ]
     },
     "metadata": {
      "needs_background": "light"
     },
     "output_type": "display_data"
    }
   ],
   "source": [
    "cm = confusion_matrix(y_val, preds)\n",
    "sns.heatmap(cm,\n",
    "            cmap=plt.cm.Blues,\n",
    "            annot=True,\n",
    "            square=True,\n",
    "            xticklabels=['Citation', 'Arrest'],\n",
    "            yticklabels=['Citation', 'Arrest'],\n",
    "            fmt='g')\n",
    "plt.title('Logistic Regression', size=15);"
   ]
  },
  {
   "cell_type": "markdown",
   "metadata": {},
   "source": [
    "Generally terrible! Examine the ROC curve to see what effect the probability threshold is having. "
   ]
  },
  {
   "cell_type": "code",
   "execution_count": 12,
   "metadata": {},
   "outputs": [],
   "source": [
    "def plot_roc(y_true, pred_probs, model_type):\n",
    "    # model_type: string label for the model (e.g. 'Logistic Regression')\n",
    "    fpr, tpr, _ = roc_curve(y_true, pred_probs)\n",
    "    auc_val = roc_auc_score(y_true, pred_probs)\n",
    "    \n",
    "    plt.figure(figsize=(10, 8))\n",
    "    plt.plot(fpr, tpr)\n",
    "    plt.plot([0,1])\n",
    "    plt.annotate(f'AUC = {round(auc_val, 3)}', xy=(.6, .2))\n",
    "    plt.title(model_type)\n",
    "    plt.xlabel('FPR')\n",
    "    plt.ylabel('TPR')"
   ]
  },
  {
   "cell_type": "code",
   "execution_count": 13,
   "metadata": {},
   "outputs": [
    {
     "data": {
      "image/png": "[encoded data removed]",
      "text/plain": [
       "<Figure size 720x576 with 1 Axes>"
      ]
     },
     "metadata": {
      "needs_background": "light"
     },
     "output_type": "display_data"
    }
   ],
   "source": [
    "pred_probs = base_logistic.predict_proba(X_val)[:, 1]\n",
    "plot_roc(y_val, pred_probs, 'Logistic Regression')"
   ]
  },
  {
   "cell_type": "markdown",
   "metadata": {},
   "source": [
    "# Second Base Model - Add Officer Years of Service"
   ]
  },
  {
   "cell_type": "code",
   "execution_count": 14,
   "metadata": {},
   "outputs": [],
   "source": [
    "cols2keep = ['outcome', 'subject_age', 'subject_race', 'subject_sex', 'officer_age', 'officer_race', 'officer_sex', \n",
    "             'officer_years_of_service']\n",
    "cols2dum = ['subject_race', 'subject_sex', 'officer_race', 'officer_sex']\n",
    "\n",
    "df_fl_dropnas = pd.read_pickle('data/df_fl_dropnas.pkl')\n",
    "df_fl_sub = df_fl_dropnas[cols2keep]\n",
    "del df_fl_dropnas # for memory purposes"
   ]
  },
  {
   "cell_type": "code",
   "execution_count": 15,
   "metadata": {},
   "outputs": [],
   "source": [
    "# Fix negative values in officer years of service\n",
    "df_fl_sub['officer_years_of_service'] = np.abs(df_fl_sub['officer_years_of_service'])"
   ]
  },
  {
   "cell_type": "code",
   "execution_count": 16,
   "metadata": {},
   "outputs": [],
   "source": [
    "# Dummify\n",
    "df_fl_sub_dums = pd.get_dummies(df_fl_sub, columns=cols2dum, prefix=cols2dum, drop_first=True)\n",
    "del df_fl_sub"
   ]
  },
  {
   "cell_type": "code",
   "execution_count": 17,
   "metadata": {},
   "outputs": [],
   "source": [
    "# Binarize outcome\n",
    "df_fl_sub_dums = binarize_outcome(df_fl_sub_dums)"
   ]
  },
  {
   "cell_type": "code",
   "execution_count": 18,
   "metadata": {},
   "outputs": [],
   "source": [
    "X = df_fl_sub_dums.drop('outcome', axis=1)\n",
    "y = df_fl_sub_dums['outcome']\n",
    "\n",
    "X_train_val, X_test, y_train_val, y_test = train_test_split(X, y, test_size=.2, random_state=rs)\n",
    "X_train, X_val, y_train, y_val = train_test_split(X_train_val, y_train_val, test_size=.25, random_state=rs)"
   ]
  },
  {
   "cell_type": "code",
   "execution_count": 19,
   "metadata": {},
   "outputs": [
    {
     "name": "stderr",
     "output_type": "stream",
     "text": [
      "/Users/markyramone/anaconda3/lib/python3.7/site-packages/sklearn/linear_model/logistic.py:432: FutureWarning: Default solver will be changed to 'lbfgs' in 0.22. Specify a solver to silence this warning.\n",
      "  FutureWarning)\n"
     ]
    },
    {
     "name": "stdout",
     "output_type": "stream",
     "text": [
      "Accuracy is 0.869\n",
      "Precision is 0.083\n",
      "Recall is 0.271\n",
      "F1 is 0.128\n"
     ]
    }
   ],
   "source": [
    "sc = StandardScaler()\n",
    "X_train_sc = sc.fit_transform(X_train)\n",
    "X_val_sc = sc.transform(X_val)\n",
    "\n",
    "base_logistic = LogisticRegression(class_weight={0: 1, 1: 15})\n",
    "base_logistic.fit(X_train_sc, y_train)\n",
    "preds = base_logistic.predict(X_val_sc)\n",
    "print(f'Accuracy is {round(accuracy_score(y_val, preds), 3)}')\n",
    "print(f'Precision is {round(precision_score(y_val, preds), 3)}')\n",
    "print(f'Recall is {round(recall_score(y_val, preds), 3)}')\n",
    "print(f'F1 is {round(f1_score(y_val, preds), 3)}')"
   ]
  },
  {
   "cell_type": "code",
   "execution_count": 20,
   "metadata": {},
   "outputs": [
    {
     "data": {
      "text/plain": [
       "[('subject_race_black', 0.48669086211525053),\n",
       " ('subject_race_hispanic', 0.4557546113854098),\n",
       " ('subject_sex_male', 0.24862876477434712),\n",
       " ('subject_race_white', 0.22655483755549846),\n",
       " ('subject_race_other/unknown', 0.04378693806632325),\n",
       " ('officer_years_of_service', -0.002740610994218027),\n",
       " ('officer_sex_male', -0.02510557106048131),\n",
       " ('officer_race_white', -0.031463245361216585),\n",
       " ('officer_race_other/unknown', -0.06253488581586511),\n",
       " ('officer_race_hispanic', -0.08830428553928443),\n",
       " ('officer_race_black', -0.09488395726577184),\n",
       " ('officer_age', -0.17866229473806056),\n",
       " ('subject_age', -0.4026797538661274)]"
      ]
     },
     "execution_count": 20,
     "metadata": {},
     "output_type": "execute_result"
    }
   ],
   "source": [
    "list(sorted(zip(X_val.columns, base_logistic.coef_[0]), key=lambda tup: tup[1], reverse=True))"
   ]
  },
  {
   "cell_type": "code",
   "execution_count": 21,
   "metadata": {},
   "outputs": [
    {
     "data": {
      "image/png": "[encoded data removed]",
      "text/plain": [
       "<Figure size 432x288 with 2 Axes>"
      ]
     },
     "metadata": {
      "needs_background": "light"
     },
     "output_type": "display_data"
    }
   ],
   "source": [
    "cm = confusion_matrix(y_val, preds)\n",
    "sns.heatmap(cm,\n",
    "            cmap=plt.cm.Blues,\n",
    "            annot=True,\n",
    "            square=True,\n",
    "            xticklabels=['Citation', 'Arrest'],\n",
    "            yticklabels=['Citation', 'Arrest'],\n",
    "            fmt='g')\n",
    "plt.title('Logistic Regression', size=15);"
   ]
  },
  {
   "cell_type": "markdown",
   "metadata": {},
   "source": [
    "Adding officer years of service had minimal effect, but at least it's in the right direction."
   ]
  },
  {
   "cell_type": "code",
   "execution_count": 22,
   "metadata": {},
   "outputs": [
    {
     "data": {
      "image/png": "[encoded data removed]",
      "text/plain": [
       "<Figure size 720x576 with 1 Axes>"
      ]
     },
     "metadata": {
      "needs_background": "light"
     },
     "output_type": "display_data"
    }
   ],
   "source": [
    "pred_probs = base_logistic.predict_proba(X_val)[:, 1]\n",
    "plot_roc(y_val, pred_probs, 'Logistic Regression')"
   ]
  },
  {
   "cell_type": "markdown",
   "metadata": {},
   "source": [
    "# Third Base Model - Add Vehicle and County Information"
   ]
  },
  {
   "cell_type": "code",
   "execution_count": 23,
   "metadata": {},
   "outputs": [],
   "source": [
    "cols2keep = ['outcome', 'subject_age', 'subject_race', 'subject_sex', 'officer_age', 'officer_race', 'officer_sex', \n",
    "             'officer_years_of_service', 'county_name', 'vehicle_region']\n",
    "cols2dum = ['subject_race', 'subject_sex', 'officer_race', 'officer_sex', 'county_name', 'vehicle_region']\n",
    "\n",
    "df_fl_dropnas = pd.read_pickle('data/df_fl_dropnas.pkl')\n",
    "df_fl_sub = df_fl_dropnas[cols2keep]\n",
    "del df_fl_dropnas # for memory purposes"
   ]
  },
  {
   "cell_type": "code",
   "execution_count": 24,
   "metadata": {},
   "outputs": [],
   "source": [
    "# Fix negative values in officer years of service\n",
    "df_fl_sub['officer_years_of_service'] = np.abs(df_fl_sub['officer_years_of_service'])"
   ]
  },
  {
   "cell_type": "code",
   "execution_count": 25,
   "metadata": {},
   "outputs": [],
   "source": [
    "# Dummify\n",
    "df_fl_sub_dums = pd.get_dummies(df_fl_sub, columns=cols2dum, prefix=cols2dum, drop_first=True)\n",
    "del df_fl_sub"
   ]
  },
  {
   "cell_type": "code",
   "execution_count": 26,
   "metadata": {},
   "outputs": [],
   "source": [
    "# Binarize outcome\n",
    "df_fl_sub_dums = binarize_outcome(df_fl_sub_dums)"
   ]
  },
  {
   "cell_type": "code",
   "execution_count": 27,
   "metadata": {},
   "outputs": [],
   "source": [
    "X = df_fl_sub_dums.drop('outcome', axis=1)\n",
    "y = df_fl_sub_dums['outcome']\n",
    "\n",
    "X_train_val, X_test, y_train_val, y_test = train_test_split(X, y, test_size=.2, random_state=42)\n",
    "X_train, X_val, y_train, y_val = train_test_split(X_train_val, y_train_val, test_size=.25, random_state=rs)"
   ]
  },
  {
   "cell_type": "code",
   "execution_count": 28,
   "metadata": {},
   "outputs": [
    {
     "name": "stderr",
     "output_type": "stream",
     "text": [
      "/Users/markyramone/anaconda3/lib/python3.7/site-packages/sklearn/linear_model/logistic.py:432: FutureWarning: Default solver will be changed to 'lbfgs' in 0.22. Specify a solver to silence this warning.\n",
      "  FutureWarning)\n"
     ]
    },
    {
     "name": "stdout",
     "output_type": "stream",
     "text": [
      "Accuracy is 0.857\n",
      "Precision is 0.087\n",
      "Recall is 0.324\n",
      "F1 is 0.138\n"
     ]
    }
   ],
   "source": [
    "sc = StandardScaler()\n",
    "X_train_sc = sc.fit_transform(X_train)\n",
    "X_val_sc = sc.transform(X_val)\n",
    "\n",
    "base_logistic = LogisticRegression(class_weight={0: 1, 1: 15})\n",
    "base_logistic.fit(X_train_sc, y_train)\n",
    "preds = base_logistic.predict(X_val_sc)\n",
    "print(f'Accuracy is {round(accuracy_score(y_val, preds), 3)}')\n",
    "print(f'Precision is {round(precision_score(y_val, preds), 3)}')\n",
    "print(f'Recall is {round(recall_score(y_val, preds), 3)}')\n",
    "print(f'F1 is {round(f1_score(y_val, preds), 3)}')"
   ]
  },
  {
   "cell_type": "code",
   "execution_count": 29,
   "metadata": {},
   "outputs": [
    {
     "data": {
      "text/plain": [
       "[('subject_race_hispanic', 0.4795455482114809),\n",
       " ('subject_race_black', 0.4706447032903552),\n",
       " ('subject_sex_male', 0.25347810875543997),\n",
       " ('subject_race_white', 0.21260028727072514),\n",
       " ('county_name_DUVAL', 0.14465920964624784),\n",
       " ('county_name_ESCAMBIA', 0.08346259577563804),\n",
       " ('county_name_NASSAU', 0.06960579359463431),\n",
       " ('subject_race_other/unknown', 0.051935230363294296),\n",
       " ('county_name_PASCO', 0.04809689130750636),\n",
       " ('county_name_PALM BEACH', 0.047722599928075815),\n",
       " ('county_name_CLAY', 0.035138251890150254),\n",
       " ('county_name_BAY', 0.03493284181643249),\n",
       " ('vehicle_region_Southwest', 0.028137903745240077),\n",
       " ('county_name_LEE', 0.026567288028089022),\n",
       " ('county_name_HERNANDO', 0.022344413307645812),\n",
       " ('county_name_MANATEE', 0.01863255998051659),\n",
       " ('county_name_BROWARD', 0.017412305509187508),\n",
       " ('officer_years_of_service', 0.015524298802062922),\n",
       " ('vehicle_region_South', 0.014420724112872532),\n",
       " ('county_name_PUTNAM', 0.014026518807078286),\n",
       " ('county_name_SANTA ROSA', 0.013828204077096203),\n",
       " ('county_name_GILCHRIST', 0.01253768065823316),\n",
       " ('officer_race_white', 0.012442196666007276),\n",
       " ('county_name_FRANKLIN', 0.009887604937438128),\n",
       " ('county_name_VOLUSIA', 0.009593573046030172),\n",
       " ('county_name_LAFAYETTE', 0.009389699584737884),\n",
       " ('county_name_UNION', 0.00901189067126431),\n",
       " ('vehicle_region_Pacific', 0.008087185383185055),\n",
       " ('county_name_HENDRY', 0.006514339030366582),\n",
       " ('county_name_LEON', 0.006223579301688765),\n",
       " ('county_name_SARASOTA', 0.005829490709385887),\n",
       " ('vehicle_region_Southeast', 0.004706442284334148),\n",
       " ('county_name_WALTON', 0.004533117543831043),\n",
       " ('county_name_GADSDEN', 0.0030807666667457493),\n",
       " ('county_name_BRADFORD', 0.0029178064987027815),\n",
       " ('vehicle_region_Mountain', 0.002917606638833129),\n",
       " ('vehicle_region_New England', 0.0014905004823406295),\n",
       " ('county_name_COLUMBIA', -9.976820463642893e-06),\n",
       " ('vehicle_region_Midwest', -0.00032092869994396157),\n",
       " ('county_name_CALHOUN', -0.0005608033500393656),\n",
       " ('county_name_MIAMI-DADE', -0.0010908012506101762),\n",
       " ('county_name_SUWANNEE', -0.0029098096544865506),\n",
       " ('vehicle_region_Northwest', -0.0035701826068597424),\n",
       " ('county_name_WAKULLA', -0.0038961236652739722),\n",
       " ('county_name_OKALOOSA', -0.004929280278587003),\n",
       " ('county_name_BREVARD', -0.0056019738802957466),\n",
       " ('county_name_ST JOHNS', -0.006120480459402772),\n",
       " ('county_name_CHARLOTTE', -0.00799384503743755),\n",
       " ('county_name_LIBERTY', -0.00805785215887857),\n",
       " ('county_name_HILLSBOROUGH', -0.008278287473409703),\n",
       " ('county_name_JACKSON', -0.008895093173409991),\n",
       " ('vehicle_region_Instate', -0.009250554322979858),\n",
       " ('county_name_TAYLOR', -0.009735102318273304),\n",
       " ('county_name_LEVY', -0.011996817296837685),\n",
       " ('county_name_HIGHLANDS', -0.012376192064126258),\n",
       " ('county_name_BAKER', -0.01268661098701188),\n",
       " ('county_name_FLAGLER', -0.013455164604207419),\n",
       " ('county_name_GULF', -0.014208090111472695),\n",
       " ('county_name_HARDEE', -0.014487996063680147),\n",
       " ('vehicle_region_Mid Atlantic', -0.015650072306410554),\n",
       " ('county_name_GLADES', -0.018841391030386616),\n",
       " ('county_name_HOLMES', -0.019321042986873357),\n",
       " ('county_name_OKEECHOBEE', -0.019519640893017078),\n",
       " ('county_name_DIXIE', -0.021070061146599654),\n",
       " ('vehicle_region_South Atlantic', -0.021439386581143745),\n",
       " ('county_name_WASHINGTON', -0.022548646353417755),\n",
       " ('county_name_DESOTO', -0.022887486073195136),\n",
       " ('county_name_HAMILTON', -0.02326119648292738),\n",
       " ('county_name_CITRUS', -0.02434388722595202),\n",
       " ('officer_sex_male', -0.025212296431058774),\n",
       " ('county_name_PINELLAS', -0.025896115897322172),\n",
       " ('county_name_SEMINOLE', -0.0295462339681611),\n",
       " ('county_name_JEFFERSON', -0.03251002982126985),\n",
       " ('county_name_SUMTER', -0.032975592319828134),\n",
       " ('county_name_MADISON', -0.0331799042656128),\n",
       " ('officer_race_hispanic', -0.03427895457230254),\n",
       " ('county_name_COLLIER', -0.03805477818427028),\n",
       " ('county_name_MONROE', -0.04447288004062439),\n",
       " ('county_name_MARION', -0.04513046545926299),\n",
       " ('county_name_LAKE', -0.05108734630653354),\n",
       " ('county_name_POLK', -0.05318326787653355),\n",
       " ('officer_race_other/unknown', -0.07395088986033661),\n",
       " ('county_name_MARTIN', -0.07511942470810883),\n",
       " ('officer_race_black', -0.07895657200387124),\n",
       " ('county_name_ORANGE', -0.08470635386534393),\n",
       " ('county_name_INDIAN RIVER', -0.08925633377716415),\n",
       " ('county_name_ST LUCIE', -0.13147492728346805),\n",
       " ('officer_age', -0.17234387476576546),\n",
       " ('county_name_OSCEOLA', -0.1750591672474693),\n",
       " ('subject_age', -0.3967044086130426)]"
      ]
     },
     "execution_count": 29,
     "metadata": {},
     "output_type": "execute_result"
    }
   ],
   "source": [
    "list(sorted(zip(X_val.columns, base_logistic.coef_[0]), key=lambda tup: tup[1], reverse=True))"
   ]
  },
  {
   "cell_type": "code",
   "execution_count": 30,
   "metadata": {},
   "outputs": [
    {
     "data": {
      "image/png": "[encoded data removed]",
      "text/plain": [
       "<Figure size 432x288 with 2 Axes>"
      ]
     },
     "metadata": {
      "needs_background": "light"
     },
     "output_type": "display_data"
    }
   ],
   "source": [
    "cm = confusion_matrix(y_val, preds)\n",
    "sns.heatmap(cm,\n",
    "            cmap=plt.cm.Blues,\n",
    "            annot=True,\n",
    "            square=True,\n",
    "            xticklabels=['Citation', 'Arrest'],\n",
    "            yticklabels=['Citation', 'Arrest'],\n",
    "            fmt='g')\n",
    "plt.title('Logistic Regression', size=15);"
   ]
  },
  {
   "cell_type": "markdown",
   "metadata": {},
   "source": [
    "This helped recall a bit, but precision is worse. "
   ]
  },
  {
   "cell_type": "code",
   "execution_count": 31,
   "metadata": {},
   "outputs": [
    {
     "data": {
      "image/png": "[encoded data removed]",
      "text/plain": [
       "<Figure size 720x576 with 1 Axes>"
      ]
     },
     "metadata": {
      "needs_background": "light"
     },
     "output_type": "display_data"
    }
   ],
   "source": [
    "pred_probs = base_logistic.predict_proba(X_val)[:, 1]\n",
    "plot_roc(y_val, pred_probs, 'Logistic Regression')"
   ]
  },
  {
   "cell_type": "markdown",
   "metadata": {},
   "source": [
    "# Fourth Base Model - Add Violation"
   ]
  },
  {
   "cell_type": "code",
   "execution_count": 32,
   "metadata": {},
   "outputs": [],
   "source": [
    "cols2keep = ['outcome', 'subject_age', 'subject_race', 'subject_sex', 'officer_age', 'officer_race', 'officer_sex', \n",
    "             'officer_years_of_service', 'county_name', 'vehicle_region', 'violation']\n",
    "cols2dum = ['subject_race', 'subject_sex', 'officer_race', 'officer_sex', 'county_name', 'vehicle_region', 'violation']\n",
    "\n",
    "df_fl_dropnas = pd.read_pickle('data/df_fl_dropnas.pkl')\n",
    "df_fl_sub = df_fl_dropnas[cols2keep]\n",
    "del df_fl_dropnas # for memory purposes"
   ]
  },
  {
   "cell_type": "code",
   "execution_count": 33,
   "metadata": {},
   "outputs": [],
   "source": [
    "# Fix negative values in officer years of service\n",
    "df_fl_sub['officer_years_of_service'] = np.abs(df_fl_sub['officer_years_of_service'])"
   ]
  },
  {
   "cell_type": "code",
   "execution_count": 34,
   "metadata": {},
   "outputs": [],
   "source": [
    "# Dummify\n",
    "df_fl_sub_dums = pd.get_dummies(df_fl_sub, columns=cols2dum, prefix=cols2dum, drop_first=True)\n",
    "del df_fl_sub"
   ]
  },
  {
   "cell_type": "code",
   "execution_count": 35,
   "metadata": {},
   "outputs": [],
   "source": [
    "# Binarize outcome\n",
    "df_fl_sub_dums = binarize_outcome(df_fl_sub_dums)"
   ]
  },
  {
   "cell_type": "code",
   "execution_count": 36,
   "metadata": {},
   "outputs": [],
   "source": [
    "X = df_fl_sub_dums.drop('outcome', axis=1)\n",
    "y = df_fl_sub_dums['outcome']\n",
    "\n",
    "X_train_val, X_test, y_train_val, y_test = train_test_split(X, y, test_size=.2, random_state=42)\n",
    "X_train, X_val, y_train, y_val = train_test_split(X_train_val, y_train_val, test_size=.25, random_state=rs)"
   ]
  },
  {
   "cell_type": "code",
   "execution_count": 37,
   "metadata": {},
   "outputs": [
    {
     "name": "stderr",
     "output_type": "stream",
     "text": [
      "/Users/markyramone/anaconda3/lib/python3.7/site-packages/sklearn/linear_model/logistic.py:432: FutureWarning: Default solver will be changed to 'lbfgs' in 0.22. Specify a solver to silence this warning.\n",
      "  FutureWarning)\n"
     ]
    },
    {
     "name": "stdout",
     "output_type": "stream",
     "text": [
      "Accuracy is 0.92\n",
      "Precision is 0.232\n",
      "Recall is 0.554\n",
      "F1 is 0.327\n"
     ]
    }
   ],
   "source": [
    "sc = StandardScaler()\n",
    "X_train_sc = sc.fit_transform(X_train)\n",
    "X_val_sc = sc.transform(X_val)\n",
    "\n",
    "base_logistic = LogisticRegression(class_weight={0: 1, 1: 15})\n",
    "base_logistic.fit(X_train_sc, y_train)\n",
    "preds = base_logistic.predict(X_val_sc)\n",
    "print(f'Accuracy is {round(accuracy_score(y_val, preds), 3)}')\n",
    "print(f'Precision is {round(precision_score(y_val, preds), 3)}')\n",
    "print(f'Recall is {round(recall_score(y_val, preds), 3)}')\n",
    "print(f'F1 is {round(f1_score(y_val, preds), 3)}')"
   ]
  },
  {
   "cell_type": "code",
   "execution_count": 38,
   "metadata": {},
   "outputs": [
    {
     "data": {
      "text/plain": [
       "[('subject_race_hispanic', 0.4362355284699144),\n",
       " ('subject_race_black', 0.4314721762824371),\n",
       " ('subject_sex_male', 0.25686647474066987),\n",
       " ('county_name_DUVAL', 0.2302770314326874),\n",
       " ('officer_race_white', 0.2294364443593221),\n",
       " ('violation_CONTRABAND', 0.17808631685659893),\n",
       " ('subject_race_white', 0.16138094160745686),\n",
       " ('county_name_ESCAMBIA', 0.14191558590058714),\n",
       " ('county_name_PALM BEACH', 0.13556961915121718),\n",
       " ('officer_race_black', 0.1331209721874586),\n",
       " ('officer_race_hispanic', 0.11981794485602056),\n",
       " ('county_name_NASSAU', 0.11141972601394913),\n",
       " ('violation_ALCOHOL', 0.09681691023803804),\n",
       " ('county_name_HERNANDO', 0.07837347253504516),\n",
       " ('county_name_MIAMI-DADE', 0.07762034370217359),\n",
       " ('county_name_BROWARD', 0.07754631885989081),\n",
       " ('county_name_VOLUSIA', 0.07123251302274156),\n",
       " ('county_name_HILLSBOROUGH', 0.06364205640581874),\n",
       " ('county_name_ORANGE', 0.059183922516763555),\n",
       " ('county_name_PASCO', 0.05515706970572493),\n",
       " ('subject_race_other/unknown', 0.05369242075929032),\n",
       " ('county_name_BREVARD', 0.05297390215050635),\n",
       " ('county_name_SANTA ROSA', 0.050414160242139676),\n",
       " ('county_name_BAY', 0.04663326734177752),\n",
       " ('county_name_ST JOHNS', 0.04633870663297983),\n",
       " ('county_name_PUTNAM', 0.04153681655743986),\n",
       " ('county_name_PINELLAS', 0.03988506272812858),\n",
       " ('officer_race_other/unknown', 0.0384352099417753),\n",
       " ('county_name_POLK', 0.037792579151506654),\n",
       " ('county_name_LEE', 0.0343590054974164),\n",
       " ('county_name_CLAY', 0.027890196741512344),\n",
       " ('county_name_HOLMES', 0.02597540034906569),\n",
       " ('county_name_MANATEE', 0.025656237075554048),\n",
       " ('county_name_LAFAYETTE', 0.024612639789040613),\n",
       " ('vehicle_region_Southwest', 0.022862878734041085),\n",
       " ('vehicle_region_South', 0.01935983913159009),\n",
       " ('county_name_GILCHRIST', 0.017791211662995875),\n",
       " ('county_name_CALHOUN', 0.017567299123434563),\n",
       " ('county_name_SUWANNEE', 0.014288038500376412),\n",
       " ('county_name_LEVY', 0.014079100665322083),\n",
       " ('county_name_HAMILTON', 0.013529120508588672),\n",
       " ('county_name_LAKE', 0.012069199060555624),\n",
       " ('county_name_FLAGLER', 0.011264149600587458),\n",
       " ('county_name_SEMINOLE', 0.011002519107621013),\n",
       " ('vehicle_region_Southeast', 0.01042767294348331),\n",
       " ('county_name_DIXIE', 0.009060823031277266),\n",
       " ('vehicle_region_Pacific', 0.0083831152337027),\n",
       " ('county_name_JACKSON', 0.0060265164001576405),\n",
       " ('county_name_HENDRY', 0.005835233465360795),\n",
       " ('vehicle_region_New England', 0.0032511189440757307),\n",
       " ('county_name_MONROE', 0.001160311255352475),\n",
       " ('county_name_HARDEE', -0.0008508566869016879),\n",
       " ('vehicle_region_Mountain', -0.001173342473276816),\n",
       " ('county_name_MADISON', -0.0018756295942179576),\n",
       " ('county_name_FRANKLIN', -0.0024249805400815396),\n",
       " ('vehicle_region_Midwest', -0.0034178630673506933),\n",
       " ('county_name_HIGHLANDS', -0.004701409210000891),\n",
       " ('county_name_UNION', -0.004999446185850077),\n",
       " ('county_name_WALTON', -0.005720978688596755),\n",
       " ('vehicle_region_Northwest', -0.005851904007017314),\n",
       " ('vehicle_region_Mid Atlantic', -0.006311023407206487),\n",
       " ('violation_LICENSE', -0.006995330609629026),\n",
       " ('county_name_GLADES', -0.007922705050322014),\n",
       " ('county_name_DESOTO', -0.00980001416941947),\n",
       " ('county_name_COLUMBIA', -0.010643408516637037),\n",
       " ('vehicle_region_South Atlantic', -0.010891116234188945),\n",
       " ('county_name_BRADFORD', -0.013902460852418993),\n",
       " ('county_name_OSCEOLA', -0.014465861682176142),\n",
       " ('county_name_SARASOTA', -0.015618807036558267),\n",
       " ('county_name_CITRUS', -0.01598882372740386),\n",
       " ('county_name_MARION', -0.01706232659505921),\n",
       " ('violation_NR', -0.017607880951733552),\n",
       " ('county_name_TAYLOR', -0.01761990305736154),\n",
       " ('county_name_MARTIN', -0.019634366132127663),\n",
       " ('officer_sex_male', -0.021561266356466158),\n",
       " ('county_name_CHARLOTTE', -0.022013565707835397),\n",
       " ('county_name_LEON', -0.022613935204410324),\n",
       " ('county_name_LIBERTY', -0.024503374226086495),\n",
       " ('violation_OTHER', -0.02467708830887982),\n",
       " ('county_name_WASHINGTON', -0.025737711981480834),\n",
       " ('county_name_GULF', -0.02899637317293662),\n",
       " ('county_name_BAKER', -0.03083899868773031),\n",
       " ('county_name_GADSDEN', -0.03103388102091423),\n",
       " ('county_name_SUMTER', -0.03170365652978388),\n",
       " ('county_name_ST LUCIE', -0.03190424926321731),\n",
       " ('vehicle_region_Instate', -0.03689801560407643),\n",
       " ('county_name_WAKULLA', -0.037523665374929654),\n",
       " ('county_name_JEFFERSON', -0.038083743783305896),\n",
       " ('county_name_OKEECHOBEE', -0.03897974153998003),\n",
       " ('county_name_INDIAN RIVER', -0.05151144897308501),\n",
       " ('county_name_OKALOOSA', -0.056283059938602),\n",
       " ('officer_years_of_service', -0.05773707612538435),\n",
       " ('county_name_COLLIER', -0.062279289607796766),\n",
       " ('officer_age', -0.09571929394547327),\n",
       " ('violation_TOLL EVASION', -0.17545867785185043),\n",
       " ('violation_DRIVING WITHOUT HEADLIGHTS', -0.2238316317977785),\n",
       " ('violation_IMPROPER DRVING', -0.2911857879001223),\n",
       " ('violation_OTHER NON MOVING', -0.3227681259358135),\n",
       " ('subject_age', -0.38817021024001297),\n",
       " ('violation_IMPROPER DRIVING', -0.4907304379600317),\n",
       " ('violation_MOVE OVER LAW', -0.49995441115751177),\n",
       " ('violation_OTHER MOVING VIOLATIONS', -0.545312979592224),\n",
       " ('violation_REGISTRATION OR TAG', -0.5688946920586886),\n",
       " ('violation_VIOLATIONS OF TRAFFIC CONTROL DEVICE', -0.7080371166142037),\n",
       " ('violation_PROOF OF INSURANCE', -0.7585360164264319),\n",
       " ('violation_COMMERCIAL', -0.7692835538449403),\n",
       " ('violation_VEHICLE', -0.8067497603174824),\n",
       " ('violation_SEATBELT', -0.9885761856385753),\n",
       " ('violation_SPEED', -2.0106179976449012)]"
      ]
     },
     "execution_count": 38,
     "metadata": {},
     "output_type": "execute_result"
    }
   ],
   "source": [
    "list(sorted(zip(X_val.columns, base_logistic.coef_[0]), key=lambda tup: tup[1], reverse=True))"
   ]
  },
  {
   "cell_type": "code",
   "execution_count": 39,
   "metadata": {},
   "outputs": [
    {
     "data": {
      "image/png": "[encoded data removed]",
      "text/plain": [
       "<Figure size 432x288 with 2 Axes>"
      ]
     },
     "metadata": {
      "needs_background": "light"
     },
     "output_type": "display_data"
    }
   ],
   "source": [
    "cm = confusion_matrix(y_val, preds)\n",
    "sns.heatmap(cm,\n",
    "            cmap=plt.cm.Blues,\n",
    "            annot=True,\n",
    "            square=True,\n",
    "            xticklabels=['Citation', 'Arrest'],\n",
    "            yticklabels=['Citation', 'Arrest'],\n",
    "            fmt='g')\n",
    "plt.title('Logistic Regression', size=15);"
   ]
  },
  {
   "cell_type": "markdown",
   "metadata": {},
   "source": [
    "Not surprising that adding violation improves things substantially. Precision still quite garbage. But interesting that race-related coefficients (i.e. black, hispanic driver) are pretty solidly the strongest drivers (ha)."
   ]
  },
  {
   "cell_type": "code",
   "execution_count": 40,
   "metadata": {},
   "outputs": [
    {
     "data": {
      "image/png": "[encoded data removed]",
      "text/plain": [
       "<Figure size 720x576 with 1 Axes>"
      ]
     },
     "metadata": {
      "needs_background": "light"
     },
     "output_type": "display_data"
    }
   ],
   "source": [
    "pred_probs = base_logistic.predict_proba(X_val)[:, 1]\n",
    "plot_roc(y_val, pred_probs, 'Logistic Regression')"
   ]
  },
  {
   "cell_type": "markdown",
   "metadata": {},
   "source": [
    "# Final Base Model - Add Search Related Info"
   ]
  },
  {
   "cell_type": "code",
   "execution_count": 41,
   "metadata": {},
   "outputs": [],
   "source": [
    "cols2keep = ['outcome', 'subject_age', 'subject_race', 'subject_sex', 'officer_age', 'officer_race', 'officer_sex', \n",
    "             'officer_years_of_service', 'county_name', 'vehicle_region', 'violation', 'search_conducted',\n",
    "             'search_basis', 'frisk_performed']\n",
    "cols2dum = ['subject_race', 'subject_sex', 'officer_race', 'officer_sex', 'county_name', 'vehicle_region', \n",
    "            'violation', 'search_conducted', 'search_basis', 'frisk_performed']\n",
    "\n",
    "df_fl_dropnas = pd.read_pickle('data/df_fl_dropnas.pkl')\n",
    "df_fl_sub = df_fl_dropnas[cols2keep]\n",
    "del df_fl_dropnas # for memory purposes"
   ]
  },
  {
   "cell_type": "code",
   "execution_count": 42,
   "metadata": {},
   "outputs": [],
   "source": [
    "# Dummify\n",
    "df_fl_sub_dums = pd.get_dummies(df_fl_sub, columns=cols2dum, prefix=cols2dum, drop_first=True)\n",
    "del df_fl_sub"
   ]
  },
  {
   "cell_type": "code",
   "execution_count": 43,
   "metadata": {},
   "outputs": [],
   "source": [
    "# Binarize outcome\n",
    "df_fl_sub_dums = binarize_outcome(df_fl_sub_dums)"
   ]
  },
  {
   "cell_type": "code",
   "execution_count": 44,
   "metadata": {},
   "outputs": [],
   "source": [
    "X = df_fl_sub_dums.drop('outcome', axis=1)\n",
    "y = df_fl_sub_dums['outcome']\n",
    "\n",
    "X_train_val, X_test, y_train_val, y_test = train_test_split(X, y, test_size=.2, random_state=42)\n",
    "X_train, X_val, y_train, y_val = train_test_split(X_train_val, y_train_val, test_size=.25, random_state=rs)"
   ]
  },
  {
   "cell_type": "code",
   "execution_count": 45,
   "metadata": {},
   "outputs": [
    {
     "name": "stderr",
     "output_type": "stream",
     "text": [
      "/Users/markyramone/anaconda3/lib/python3.7/site-packages/sklearn/linear_model/logistic.py:432: FutureWarning: Default solver will be changed to 'lbfgs' in 0.22. Specify a solver to silence this warning.\n",
      "  FutureWarning)\n"
     ]
    },
    {
     "name": "stdout",
     "output_type": "stream",
     "text": [
      "Accuracy is 0.928\n",
      "Precision is 0.263\n",
      "Recall is 0.575\n",
      "F1 is 0.361\n"
     ]
    }
   ],
   "source": [
    "sc = StandardScaler()\n",
    "X_train_sc = sc.fit_transform(X_train)\n",
    "X_val_sc = sc.transform(X_val)\n",
    "\n",
    "base_logistic = LogisticRegression(class_weight={0: 1, 1: 15})\n",
    "base_logistic.fit(X_train_sc, y_train)\n",
    "preds = base_logistic.predict(X_val_sc)\n",
    "print(f'Accuracy is {round(accuracy_score(y_val, preds), 3)}')\n",
    "print(f'Precision is {round(precision_score(y_val, preds), 3)}')\n",
    "print(f'Recall is {round(recall_score(y_val, preds), 3)}')\n",
    "print(f'F1 is {round(f1_score(y_val, preds), 3)}')"
   ]
  },
  {
   "cell_type": "code",
   "execution_count": 46,
   "metadata": {},
   "outputs": [
    {
     "data": {
      "text/plain": [
       "[('subject_race_hispanic', 0.44247207816555195),\n",
       " ('subject_race_black', 0.42931394618754537),\n",
       " ('officer_race_white', 0.2538658514522965),\n",
       " ('subject_sex_male', 0.24168472236604535),\n",
       " ('county_name_DUVAL', 0.23768831073759164),\n",
       " ('officer_race_black', 0.17928508189511108),\n",
       " ('county_name_PALM BEACH', 0.16461935895214128),\n",
       " ('county_name_ESCAMBIA', 0.16073680917946234),\n",
       " ('subject_race_white', 0.15662264280076382),\n",
       " ('officer_race_hispanic', 0.1532619752921963),\n",
       " ('violation_CONTRABAND', 0.1483532676707802),\n",
       " ('search_basis_other', 0.13172186563977578),\n",
       " ('county_name_BROWARD', 0.09855937968683458),\n",
       " ('county_name_MIAMI-DADE', 0.09649932968135864),\n",
       " ('violation_ALCOHOL', 0.09242442330768115),\n",
       " ('county_name_HERNANDO', 0.089090843749105),\n",
       " ('search_conducted_True', 0.08644637538732158),\n",
       " ('county_name_NASSAU', 0.0832396730027174),\n",
       " ('county_name_HILLSBOROUGH', 0.08162347357754061),\n",
       " ('county_name_ORANGE', 0.0783196069950089),\n",
       " ('county_name_SANTA ROSA', 0.06542368039164487),\n",
       " ('county_name_PASCO', 0.06394508882564645),\n",
       " ('county_name_BAY', 0.06214087576782564),\n",
       " ('county_name_VOLUSIA', 0.061877637964551514),\n",
       " ('county_name_BREVARD', 0.05622538913089169),\n",
       " ('subject_race_other/unknown', 0.055051399412216755),\n",
       " ('officer_race_other/unknown', 0.053505107630586225),\n",
       " ('county_name_PINELLAS', 0.050506729078151),\n",
       " ('search_basis_probable cause', 0.05002175696004717),\n",
       " ('county_name_ST JOHNS', 0.044221613729634034),\n",
       " ('county_name_PUTNAM', 0.04077325274873256),\n",
       " ('county_name_POLK', 0.04075749904203303),\n",
       " ('county_name_MANATEE', 0.03646848923233572),\n",
       " ('county_name_CLAY', 0.03577886244701947),\n",
       " ('county_name_HOLMES', 0.03319243341579329),\n",
       " ('county_name_LEE', 0.03288229706412595),\n",
       " ('county_name_LAFAYETTE', 0.029586678298377786),\n",
       " ('county_name_LAKE', 0.025843689968057658),\n",
       " ('vehicle_region_Southwest', 0.02414576649914123),\n",
       " ('search_basis_plain view', 0.02404081453381041),\n",
       " ('county_name_DIXIE', 0.02114786470161472),\n",
       " ('county_name_GILCHRIST', 0.02114584744836258),\n",
       " ('county_name_CALHOUN', 0.02095731106864685),\n",
       " ('county_name_LEVY', 0.02033940558763964),\n",
       " ('county_name_SEMINOLE', 0.019826846287890127),\n",
       " ('county_name_SUWANNEE', 0.017937776290823184),\n",
       " ('county_name_HAMILTON', 0.017855696755851826),\n",
       " ('vehicle_region_South', 0.017704530029996078),\n",
       " ('county_name_HENDRY', 0.01295744846382754),\n",
       " ('vehicle_region_Southeast', 0.012849406308120252),\n",
       " ('violation_LICENSE', 0.011780185461860347),\n",
       " ('county_name_FLAGLER', 0.010288039291040092),\n",
       " ('county_name_JACKSON', 0.008716364668400652),\n",
       " ('vehicle_region_Pacific', 0.008423401569213167),\n",
       " ('frisk_performed_True', 0.008038405578903821),\n",
       " ('county_name_HARDEE', 0.007217009619997671),\n",
       " ('county_name_MADISON', 0.0067264167499547734),\n",
       " ('county_name_HIGHLANDS', 0.0053837713482442285),\n",
       " ('vehicle_region_New England', 0.003532408449542944),\n",
       " ('county_name_WALTON', 0.0029293567906165953),\n",
       " ('county_name_FRANKLIN', 0.0025808873784005327),\n",
       " ('county_name_OSCEOLA', 0.0012078504637274997),\n",
       " ('vehicle_region_Midwest', -0.001387494237392002),\n",
       " ('county_name_UNION', -0.0015630006614085286),\n",
       " ('vehicle_region_Mountain', -0.0021692573698493213),\n",
       " ('vehicle_region_Mid Atlantic', -0.002981645168887559),\n",
       " ('county_name_CITRUS', -0.003363491026267872),\n",
       " ('county_name_DESOTO', -0.003767674540071672),\n",
       " ('county_name_MARTIN', -0.005033883273471187),\n",
       " ('county_name_GLADES', -0.006120227607552596),\n",
       " ('vehicle_region_South Atlantic', -0.0064159560997348545),\n",
       " ('county_name_MONROE', -0.006924657958122093),\n",
       " ('county_name_TAYLOR', -0.009141023536734502),\n",
       " ('county_name_COLUMBIA', -0.009244055918192648),\n",
       " ('vehicle_region_Northwest', -0.00968991573028708),\n",
       " ('county_name_BRADFORD', -0.009752550173126436),\n",
       " ('county_name_SARASOTA', -0.009773203044745835),\n",
       " ('county_name_ST LUCIE', -0.015658850880080333),\n",
       " ('violation_NR', -0.015919019400176863),\n",
       " ('violation_OTHER', -0.020844374898201137),\n",
       " ('county_name_BAKER', -0.021118654737270134),\n",
       " ('county_name_LEON', -0.021209074992209687),\n",
       " ('county_name_MARION', -0.023713501529431063),\n",
       " ('county_name_WASHINGTON', -0.023762475261408168),\n",
       " ('county_name_GADSDEN', -0.024625551051495394),\n",
       " ('county_name_GULF', -0.025200666133208295),\n",
       " ('county_name_LIBERTY', -0.02598854099247221),\n",
       " ('county_name_SUMTER', -0.026282465281076552),\n",
       " ('county_name_CHARLOTTE', -0.02836702582028354),\n",
       " ('officer_sex_male', -0.029983078826415595),\n",
       " ('county_name_WAKULLA', -0.03249008967100339),\n",
       " ('county_name_OKEECHOBEE', -0.0335655708888112),\n",
       " ('vehicle_region_Instate', -0.03447811558346933),\n",
       " ('county_name_JEFFERSON', -0.03787222154166455),\n",
       " ('county_name_INDIAN RIVER', -0.041369339889235336),\n",
       " ('county_name_OKALOOSA', -0.046430979168212476),\n",
       " ('officer_years_of_service', -0.05940995386191513),\n",
       " ('county_name_COLLIER', -0.07007095270869698),\n",
       " ('search_basis_none', -0.08644637538732867),\n",
       " ('officer_age', -0.1015232988909186),\n",
       " ('violation_TOLL EVASION', -0.1700410088400214),\n",
       " ('violation_DRIVING WITHOUT HEADLIGHTS', -0.219488525057726),\n",
       " ('violation_IMPROPER DRVING', -0.2987500453115262),\n",
       " ('violation_OTHER NON MOVING', -0.33120553287793175),\n",
       " ('subject_age', -0.36825525005954285),\n",
       " ('violation_IMPROPER DRIVING', -0.4800678124872959),\n",
       " ('violation_MOVE OVER LAW', -0.4886294656302192),\n",
       " ('violation_OTHER MOVING VIOLATIONS', -0.5378018923576187),\n",
       " ('violation_REGISTRATION OR TAG', -0.5416950487924669),\n",
       " ('violation_VIOLATIONS OF TRAFFIC CONTROL DEVICE', -0.6899911479857262),\n",
       " ('violation_PROOF OF INSURANCE', -0.737642040888939),\n",
       " ('violation_COMMERCIAL', -0.7380951309395359),\n",
       " ('violation_VEHICLE', -0.8010819443895452),\n",
       " ('violation_SEATBELT', -0.9644944148959365),\n",
       " ('violation_SPEED', -1.9578009183510376)]"
      ]
     },
     "execution_count": 46,
     "metadata": {},
     "output_type": "execute_result"
    }
   ],
   "source": [
    "list(sorted(zip(X_val.columns, base_logistic.coef_[0]), key=lambda tup: tup[1], reverse=True))"
   ]
  },
  {
   "cell_type": "code",
   "execution_count": 47,
   "metadata": {},
   "outputs": [
    {
     "data": {
      "image/png": "[encoded data removed]",
      "text/plain": [
       "<Figure size 432x288 with 2 Axes>"
      ]
     },
     "metadata": {
      "needs_background": "light"
     },
     "output_type": "display_data"
    }
   ],
   "source": [
    "cm = confusion_matrix(y_val, preds)\n",
    "sns.heatmap(cm,\n",
    "            cmap=plt.cm.Blues,\n",
    "            annot=True,\n",
    "            square=True,\n",
    "            xticklabels=['Citation', 'Arrest'],\n",
    "            yticklabels=['Citation', 'Arrest'],\n",
    "            fmt='g')\n",
    "plt.title('Logistic Regression', size=15);"
   ]
  },
  {
   "cell_type": "markdown",
   "metadata": {},
   "source": [
    "Very marginal improvement, a bit surprising. Violation continues to be the biggest improvement upon demographics, but still race-related coefficients are strongest."
   ]
  },
  {
   "cell_type": "code",
   "execution_count": 48,
   "metadata": {},
   "outputs": [
    {
     "data": {
      "image/png": "[encoded data removed]",
      "text/plain": [
       "<Figure size 720x576 with 1 Axes>"
      ]
     },
     "metadata": {
      "needs_background": "light"
     },
     "output_type": "display_data"
    }
   ],
   "source": [
    "pred_probs = base_logistic.predict_proba(X_val)[:, 1]\n",
    "plot_roc(y_val, pred_probs, 'Logistic Regression')"
   ]
  },
  {
   "cell_type": "markdown",
   "metadata": {},
   "source": [
    "# Bring in time of day, day of week, month columns"
   ]
  },
  {
   "cell_type": "code",
   "execution_count": 49,
   "metadata": {},
   "outputs": [],
   "source": [
    "cols2keep = ['outcome', 'subject_age', 'subject_race', 'subject_sex', 'officer_age', 'officer_race', 'officer_sex', \n",
    "             'officer_years_of_service', 'county_name', 'vehicle_region', 'violation', 'search_conducted',\n",
    "             'search_basis', 'frisk_performed', 'time_of_day', 'day_of_week', 'month']\n",
    "cols2dum = ['subject_race', 'subject_sex', 'officer_race', 'officer_sex', 'county_name', 'vehicle_region', \n",
    "            'violation', 'search_conducted', 'search_basis', 'frisk_performed', 'time_of_day', 'day_of_week', 'month']\n",
    "\n",
    "df_fl_dropnas = pd.read_pickle('data/df_fl_dropnas.pkl')\n",
    "df_fl_sub = df_fl_dropnas[cols2keep]\n",
    "del df_fl_dropnas # for memory purposes"
   ]
  },
  {
   "cell_type": "code",
   "execution_count": 50,
   "metadata": {},
   "outputs": [],
   "source": [
    "# Dummify\n",
    "df_fl_sub_dums = pd.get_dummies(df_fl_sub, columns=cols2dum, prefix=cols2dum, drop_first=True)\n",
    "del df_fl_sub"
   ]
  },
  {
   "cell_type": "code",
   "execution_count": 51,
   "metadata": {},
   "outputs": [
    {
     "data": {
      "text/plain": [
       "(2805687, 137)"
      ]
     },
     "execution_count": 51,
     "metadata": {},
     "output_type": "execute_result"
    }
   ],
   "source": [
    "df_fl_sub_dums.shape"
   ]
  },
  {
   "cell_type": "code",
   "execution_count": 52,
   "metadata": {},
   "outputs": [],
   "source": [
    "# Binarize outcome\n",
    "df_fl_sub_dums = binarize_outcome(df_fl_sub_dums)"
   ]
  },
  {
   "cell_type": "code",
   "execution_count": 53,
   "metadata": {},
   "outputs": [],
   "source": [
    "X = df_fl_sub_dums.drop('outcome', axis=1)\n",
    "y = df_fl_sub_dums['outcome']\n",
    "\n",
    "X_train_val, X_test, y_train_val, y_test = train_test_split(X, y, test_size=.2, random_state=42)\n",
    "X_train, X_val, y_train, y_val = train_test_split(X_train_val, y_train_val, test_size=.25, random_state=rs)"
   ]
  },
  {
   "cell_type": "code",
   "execution_count": 54,
   "metadata": {},
   "outputs": [
    {
     "name": "stderr",
     "output_type": "stream",
     "text": [
      "/Users/markyramone/anaconda3/lib/python3.7/site-packages/sklearn/linear_model/logistic.py:432: FutureWarning: Default solver will be changed to 'lbfgs' in 0.22. Specify a solver to silence this warning.\n",
      "  FutureWarning)\n"
     ]
    },
    {
     "name": "stdout",
     "output_type": "stream",
     "text": [
      "Accuracy is 0.926\n",
      "Precision is 0.257\n",
      "Recall is 0.587\n",
      "F1 is 0.358\n"
     ]
    }
   ],
   "source": [
    "sc = StandardScaler()\n",
    "X_train_sc = sc.fit_transform(X_train)\n",
    "X_val_sc = sc.transform(X_val)\n",
    "\n",
    "base_logistic = LogisticRegression(class_weight={0: 1, 1: 15})\n",
    "base_logistic.fit(X_train_sc, y_train)\n",
    "preds = base_logistic.predict(X_val_sc)\n",
    "print(f'Accuracy is {round(accuracy_score(y_val, preds), 3)}')\n",
    "print(f'Precision is {round(precision_score(y_val, preds), 3)}')\n",
    "print(f'Recall is {round(recall_score(y_val, preds), 3)}')\n",
    "print(f'F1 is {round(f1_score(y_val, preds), 3)}')"
   ]
  },
  {
   "cell_type": "code",
   "execution_count": 55,
   "metadata": {},
   "outputs": [
    {
     "data": {
      "text/plain": [
       "[('subject_race_hispanic', 0.4481030817710335),\n",
       " ('subject_race_black', 0.43043610090544676),\n",
       " ('county_name_DUVAL', 0.25195732431988194),\n",
       " ('officer_race_white', 0.23757110374605497),\n",
       " ('subject_sex_male', 0.2313769784208442),\n",
       " ('county_name_PALM BEACH', 0.16860881348738768),\n",
       " ('county_name_ESCAMBIA', 0.16780465209825032),\n",
       " ('subject_race_white', 0.16733172239003413),\n",
       " ('officer_race_black', 0.166860090335751),\n",
       " ('violation_CONTRABAND', 0.15059513003878727),\n",
       " ('officer_race_hispanic', 0.14114311283826322),\n",
       " ('search_basis_other', 0.12359973866721477),\n",
       " ('county_name_MIAMI-DADE', 0.10391141825864224),\n",
       " ('county_name_BROWARD', 0.09536598253031651),\n",
       " ('county_name_HERNANDO', 0.09112223602936827),\n",
       " ('search_conducted_True', 0.08675107779042408),\n",
       " ('county_name_NASSAU', 0.08265641434295024),\n",
       " ('county_name_HILLSBOROUGH', 0.07900000206156066),\n",
       " ('violation_ALCOHOL', 0.07835001148494013),\n",
       " ('county_name_SANTA ROSA', 0.06902394921376342),\n",
       " ('county_name_VOLUSIA', 0.06467221418076356),\n",
       " ('county_name_ORANGE', 0.06320438558831401),\n",
       " ('county_name_BAY', 0.06179269413266403),\n",
       " ('subject_race_other/unknown', 0.05632664563694796),\n",
       " ('county_name_PASCO', 0.05582042563420115),\n",
       " ('county_name_BREVARD', 0.055010134056670386),\n",
       " ('search_basis_probable cause', 0.05024913458209982),\n",
       " ('county_name_ST JOHNS', 0.05009735571991677),\n",
       " ('county_name_PINELLAS', 0.046711306497670704),\n",
       " ('county_name_PUTNAM', 0.045482968420764866),\n",
       " ('officer_race_other/unknown', 0.044955737137322066),\n",
       " ('county_name_POLK', 0.043002909629030264),\n",
       " ('county_name_CLAY', 0.040120433979273645),\n",
       " ('county_name_HOLMES', 0.037115437641487274),\n",
       " ('county_name_MANATEE', 0.036708540718270524),\n",
       " ('county_name_LEE', 0.03631099849459129),\n",
       " ('day_of_week_Sunday', 0.03333135879340226),\n",
       " ('day_of_week_Saturday', 0.03151432546327076),\n",
       " ('county_name_LAFAYETTE', 0.030874195790900585),\n",
       " ('violation_LICENSE', 0.02872608993851414),\n",
       " ('county_name_LAKE', 0.028663568605354624),\n",
       " ('county_name_DIXIE', 0.024713497159734348),\n",
       " ('county_name_SEMINOLE', 0.023178305231831797),\n",
       " ('county_name_LEVY', 0.02296256347342761),\n",
       " ('vehicle_region_Southwest', 0.022897074318249135),\n",
       " ('county_name_CALHOUN', 0.02264937734450588),\n",
       " ('search_basis_plain view', 0.022613952893843655),\n",
       " ('county_name_GILCHRIST', 0.021692065733930076),\n",
       " ('county_name_SUWANNEE', 0.021284174500841246),\n",
       " ('county_name_HAMILTON', 0.020907645518487013),\n",
       " ('vehicle_region_South', 0.017258058216784875),\n",
       " ('county_name_JACKSON', 0.014162663186108518),\n",
       " ('county_name_FLAGLER', 0.012076578622218899),\n",
       " ('vehicle_region_Southeast', 0.011851933691182452),\n",
       " ('county_name_OSCEOLA', 0.011764982177794864),\n",
       " ('month_July', 0.011536988687849107),\n",
       " ('county_name_HENDRY', 0.011490177286562325),\n",
       " ('county_name_MADISON', 0.010518408492757472),\n",
       " ('county_name_HARDEE', 0.008047743835154057),\n",
       " ('month_June', 0.007966149323116659),\n",
       " ('frisk_performed_True', 0.00782083050516549),\n",
       " ('vehicle_region_Pacific', 0.007587240179458365),\n",
       " ('county_name_HIGHLANDS', 0.006715897906124017),\n",
       " ('county_name_WALTON', 0.0047933361507529835),\n",
       " ('month_February', 0.0033782718948918568),\n",
       " ('vehicle_region_New England', 0.0032627974738936604),\n",
       " ('county_name_FRANKLIN', 0.003155513272062183),\n",
       " ('county_name_UNION', 0.0008465968737756601),\n",
       " ('county_name_COLUMBIA', -0.00014188580859452718),\n",
       " ('county_name_MARTIN', -0.0009700297552992116),\n",
       " ('county_name_CITRUS', -0.001548741362135624),\n",
       " ('vehicle_region_Midwest', -0.0016740472535739844),\n",
       " ('vehicle_region_Mountain', -0.0018196005569718087),\n",
       " ('county_name_DESOTO', -0.002632963857384847),\n",
       " ('day_of_week_Tuesday', -0.003329505458425709),\n",
       " ('month_August', -0.0033817479189554825),\n",
       " ('month_November', -0.0036989963703987667),\n",
       " ('vehicle_region_Mid Atlantic', -0.004742346056011186),\n",
       " ('month_September', -0.005020510126841565),\n",
       " ('county_name_GLADES', -0.006367799213629786),\n",
       " ('county_name_TAYLOR', -0.006671103514449727),\n",
       " ('vehicle_region_South Atlantic', -0.007118302487421038),\n",
       " ('county_name_BRADFORD', -0.007737544535770973),\n",
       " ('month_May', -0.007909175812945516),\n",
       " ('vehicle_region_Northwest', -0.00915274629941671),\n",
       " ('month_December', -0.010327970929435564),\n",
       " ('county_name_MONROE', -0.010438516779665478),\n",
       " ('month_October', -0.010615250831419494),\n",
       " ('month_January', -0.013019114243090052),\n",
       " ('county_name_SARASOTA', -0.013649871443921576),\n",
       " ('month_March', -0.013652686911797444),\n",
       " ('violation_NR', -0.014117752427645002),\n",
       " ('day_of_week_Thursday', -0.0145537119421027),\n",
       " ('county_name_ST LUCIE', -0.015336696894803329),\n",
       " ('day_of_week_Wednesday', -0.01534631320596474),\n",
       " ('county_name_LEON', -0.016114769656287116),\n",
       " ('violation_OTHER', -0.01737109471354784),\n",
       " ('county_name_BAKER', -0.0177367489054312),\n",
       " ('day_of_week_Monday', -0.01802349567937413),\n",
       " ('county_name_WASHINGTON', -0.021210388401556212),\n",
       " ('county_name_SUMTER', -0.021408413036676722),\n",
       " ('officer_sex_male', -0.022381284286317322),\n",
       " ('county_name_GADSDEN', -0.022644083107266087),\n",
       " ('county_name_MARION', -0.022717097064693548),\n",
       " ('county_name_GULF', -0.023146417090635484),\n",
       " ('county_name_LIBERTY', -0.025278837850471355),\n",
       " ('county_name_CHARLOTTE', -0.026851980509847325),\n",
       " ('county_name_OKEECHOBEE', -0.0314395154393238),\n",
       " ('county_name_JEFFERSON', -0.034244176930174126),\n",
       " ('county_name_WAKULLA', -0.034645583732727914),\n",
       " ('vehicle_region_Instate', -0.0359822542141978),\n",
       " ('county_name_INDIAN RIVER', -0.03729683443013297),\n",
       " ('county_name_OKALOOSA', -0.04586961080759863),\n",
       " ('officer_years_of_service', -0.05847402605331103),\n",
       " ('county_name_COLLIER', -0.06680675370520134),\n",
       " ('officer_age', -0.07883464431052827),\n",
       " ('search_basis_none', -0.08675107779041094),\n",
       " ('violation_TOLL EVASION', -0.15992442408233973),\n",
       " ('time_of_day_LateNight', -0.18224522318805453),\n",
       " ('violation_DRIVING WITHOUT HEADLIGHTS', -0.2302372556128474),\n",
       " ('violation_IMPROPER DRVING', -0.2913747272835015),\n",
       " ('violation_OTHER NON MOVING', -0.31979551472333484),\n",
       " ('time_of_day_EveningRush', -0.33016806434635265),\n",
       " ('subject_age', -0.34284777189144583),\n",
       " ('time_of_day_MorningRush', -0.46988389160898764),\n",
       " ('time_of_day_Midday', -0.47079108695545074),\n",
       " ('violation_IMPROPER DRIVING', -0.4714618068909682),\n",
       " ('violation_MOVE OVER LAW', -0.4763100865336761),\n",
       " ('violation_REGISTRATION OR TAG', -0.5140473358105574),\n",
       " ('violation_OTHER MOVING VIOLATIONS', -0.5337702198950743),\n",
       " ('violation_VIOLATIONS OF TRAFFIC CONTROL DEVICE', -0.6733864949875049),\n",
       " ('violation_COMMERCIAL', -0.7021693742020642),\n",
       " ('violation_PROOF OF INSURANCE', -0.7242326053852998),\n",
       " ('violation_VEHICLE', -0.7895414390586926),\n",
       " ('violation_SEATBELT', -0.9156344583081323),\n",
       " ('violation_SPEED', -1.9280319860317439)]"
      ]
     },
     "execution_count": 55,
     "metadata": {},
     "output_type": "execute_result"
    }
   ],
   "source": [
    "list(sorted(zip(X_val.columns, base_logistic.coef_[0]), key=lambda tup: tup[1], reverse=True))"
   ]
  },
  {
   "cell_type": "code",
   "execution_count": 56,
   "metadata": {},
   "outputs": [
    {
     "data": {
      "image/png": "[encoded data removed]",
      "text/plain": [
       "<Figure size 432x288 with 2 Axes>"
      ]
     },
     "metadata": {
      "needs_background": "light"
     },
     "output_type": "display_data"
    }
   ],
   "source": [
    "cm = confusion_matrix(y_val, preds)\n",
    "sns.heatmap(cm,\n",
    "            cmap=plt.cm.Blues,\n",
    "            annot=True,\n",
    "            square=True,\n",
    "            xticklabels=['Citation', 'Arrest'],\n",
    "            yticklabels=['Citation', 'Arrest'],\n",
    "            fmt='g')\n",
    "plt.title('Logistic Regression', size=15);"
   ]
  },
  {
   "cell_type": "markdown",
   "metadata": {},
   "source": [
    "Very marginal improvement, a bit surprising. Violation continues to be the biggest improvement upon demographics, but still race-related coefficients are strongest."
   ]
  },
  {
   "cell_type": "code",
   "execution_count": 57,
   "metadata": {},
   "outputs": [
    {
     "data": {
      "image/png": "[encoded data removed]",
      "text/plain": [
       "<Figure size 720x576 with 1 Axes>"
      ]
     },
     "metadata": {
      "needs_background": "light"
     },
     "output_type": "display_data"
    }
   ],
   "source": [
    "pred_probs = base_logistic.predict_proba(X_val)[:, 1]\n",
    "plot_roc(y_val, pred_probs, 'Logistic Regression')"
   ]
  },
  {
   "cell_type": "code",
   "execution_count": null,
   "metadata": {},
   "outputs": [],
   "source": []
  }
 ],
 "metadata": {
  "kernelspec": {
   "display_name": "Python 3",
   "language": "python",
   "name": "python3"
  },
  "language_info": {
   "codemirror_mode": {
    "name": "ipython",
    "version": 3
   },
   "file_extension": ".py",
   "mimetype": "text/x-python",
   "name": "python",
   "nbconvert_exporter": "python",
   "pygments_lexer": "ipython3",
   "version": "3.7.3"
  }
 },
 "nbformat": 4,
 "nbformat_minor": 2
}
