{
 "cells": [
  {
   "cell_type": "markdown",
   "metadata": {},
   "source": [
    "# Cleaning\n",
    "\n",
    "This notebook follows my iterative process of exploring and cleaning the Florida highway patrol dataset from the Stanford Open Policing Project. The ultimate goal of this project is to use the information logged at individual traffic stops to predict when a stop will lead to an arrest.\n",
    "\n",
    "The end result of this notebook is a cleaned dataset with all missing values removed. This reduced the number of observations from ~5 to 2.8 million, a drastic reduction but still a more than sufficient amount of data to work with."
   ]
  },
  {
   "cell_type": "markdown",
   "metadata": {},
   "source": [
    "## Package imports and settings"
   ]
  },
  {
   "cell_type": "code",
   "execution_count": 1,
   "metadata": {},
   "outputs": [],
   "source": [
    "import pandas as pd\n",
    "pd.set_option('display.max_columns', 500)\n",
    "pd.set_option('display.width', 1000)\n",
    "import numpy as np\n",
    "import seaborn as sns\n",
    "import matplotlib.pyplot as plt\n",
    "import pickle"
   ]
  },
  {
   "cell_type": "markdown",
   "metadata": {},
   "source": [
    "## Initial reading of and first look at data"
   ]
  },
  {
   "cell_type": "markdown",
   "metadata": {},
   "source": [
    "Start by reading in just a few rows of the FL dataset to get a sense of the columns and datatypes."
   ]
  },
  {
   "cell_type": "code",
   "execution_count": 2,
   "metadata": {},
   "outputs": [],
   "source": [
    "df_fl_min = pd.read_csv('data/fl_statewide_2019_02_25.csv', nrows=50)"
   ]
  },
  {
   "cell_type": "code",
   "execution_count": 3,
   "metadata": {},
   "outputs": [
    {
     "data": {
      "text/html": [
       "<div>\n",
       "<style scoped>\n",
       "    .dataframe tbody tr th:only-of-type {\n",
       "        vertical-align: middle;\n",
       "    }\n",
       "\n",
       "    .dataframe tbody tr th {\n",
       "        vertical-align: top;\n",
       "    }\n",
       "\n",
       "    .dataframe thead th {\n",
       "        text-align: right;\n",
       "    }\n",
       "</style>\n",
       "<table border=\"1\" class=\"dataframe\">\n",
       "  <thead>\n",
       "    <tr style=\"text-align: right;\">\n",
       "      <th></th>\n",
       "      <th>raw_row_number</th>\n",
       "      <th>date</th>\n",
       "      <th>time</th>\n",
       "      <th>location</th>\n",
       "      <th>county_name</th>\n",
       "      <th>subject_age</th>\n",
       "      <th>subject_race</th>\n",
       "      <th>subject_sex</th>\n",
       "      <th>officer_id_hash</th>\n",
       "      <th>officer_age</th>\n",
       "      <th>officer_race</th>\n",
       "      <th>officer_sex</th>\n",
       "      <th>officer_years_of_service</th>\n",
       "      <th>department_name</th>\n",
       "      <th>unit</th>\n",
       "      <th>type</th>\n",
       "      <th>violation</th>\n",
       "      <th>arrest_made</th>\n",
       "      <th>citation_issued</th>\n",
       "      <th>warning_issued</th>\n",
       "      <th>outcome</th>\n",
       "      <th>frisk_performed</th>\n",
       "      <th>search_conducted</th>\n",
       "      <th>search_basis</th>\n",
       "      <th>reason_for_search</th>\n",
       "      <th>vehicle_registration_state</th>\n",
       "    </tr>\n",
       "  </thead>\n",
       "  <tbody>\n",
       "    <tr>\n",
       "      <th>0</th>\n",
       "      <td>1|1402189</td>\n",
       "      <td>2010-01-01</td>\n",
       "      <td>23:11:16</td>\n",
       "      <td>NaN</td>\n",
       "      <td>SARASOTA</td>\n",
       "      <td>24</td>\n",
       "      <td>NaN</td>\n",
       "      <td>female</td>\n",
       "      <td>e15ccc3f41</td>\n",
       "      <td>NaN</td>\n",
       "      <td>NaN</td>\n",
       "      <td>NaN</td>\n",
       "      <td>NaN</td>\n",
       "      <td>FLORIDA HIGHWAY PATROL</td>\n",
       "      <td>F</td>\n",
       "      <td>vehicular</td>\n",
       "      <td>NaN</td>\n",
       "      <td>NaN</td>\n",
       "      <td>True</td>\n",
       "      <td>NaN</td>\n",
       "      <td>citation</td>\n",
       "      <td>NaN</td>\n",
       "      <td>NaN</td>\n",
       "      <td>NaN</td>\n",
       "      <td>NaN</td>\n",
       "      <td>FL</td>\n",
       "    </tr>\n",
       "    <tr>\n",
       "      <th>1</th>\n",
       "      <td>2|1402190|7476252</td>\n",
       "      <td>2010-01-06</td>\n",
       "      <td>16:14:43</td>\n",
       "      <td>JACKSONVILLE</td>\n",
       "      <td>DUVAL</td>\n",
       "      <td>23</td>\n",
       "      <td>white</td>\n",
       "      <td>female</td>\n",
       "      <td>a23eeba673</td>\n",
       "      <td>31.0</td>\n",
       "      <td>black</td>\n",
       "      <td>male</td>\n",
       "      <td>8.0</td>\n",
       "      <td>FLORIDA HIGHWAY PATROL</td>\n",
       "      <td>G</td>\n",
       "      <td>vehicular</td>\n",
       "      <td>SPEED</td>\n",
       "      <td>False</td>\n",
       "      <td>True</td>\n",
       "      <td>NaN</td>\n",
       "      <td>citation</td>\n",
       "      <td>False</td>\n",
       "      <td>False</td>\n",
       "      <td>NaN</td>\n",
       "      <td>NaN</td>\n",
       "      <td>NC</td>\n",
       "    </tr>\n",
       "    <tr>\n",
       "      <th>2</th>\n",
       "      <td>3|1402191|9513092</td>\n",
       "      <td>2010-01-08</td>\n",
       "      <td>19:39:31</td>\n",
       "      <td>JACKSONVILLE</td>\n",
       "      <td>DUVAL</td>\n",
       "      <td>45</td>\n",
       "      <td>white</td>\n",
       "      <td>female</td>\n",
       "      <td>f0489ce476</td>\n",
       "      <td>29.0</td>\n",
       "      <td>white</td>\n",
       "      <td>male</td>\n",
       "      <td>3.0</td>\n",
       "      <td>FLORIDA HIGHWAY PATROL</td>\n",
       "      <td>G</td>\n",
       "      <td>vehicular</td>\n",
       "      <td>DUI|DUI|CARELESS DRIVING</td>\n",
       "      <td>True</td>\n",
       "      <td>True</td>\n",
       "      <td>False</td>\n",
       "      <td>arrest</td>\n",
       "      <td>False</td>\n",
       "      <td>False</td>\n",
       "      <td>NaN</td>\n",
       "      <td>NaN</td>\n",
       "      <td>FL</td>\n",
       "    </tr>\n",
       "    <tr>\n",
       "      <th>3</th>\n",
       "      <td>4|1402192|9484049</td>\n",
       "      <td>2010-01-11</td>\n",
       "      <td>11:56:34</td>\n",
       "      <td>NaN</td>\n",
       "      <td>ST. LUCIE</td>\n",
       "      <td>41</td>\n",
       "      <td>white</td>\n",
       "      <td>male</td>\n",
       "      <td>bb47e316ba</td>\n",
       "      <td>26.0</td>\n",
       "      <td>white</td>\n",
       "      <td>male</td>\n",
       "      <td>3.0</td>\n",
       "      <td>FLORIDA HIGHWAY PATROL</td>\n",
       "      <td>L</td>\n",
       "      <td>vehicular</td>\n",
       "      <td>DRIVING WHILE LICENSE SUSPENDED / REVOKED|SPEED</td>\n",
       "      <td>True</td>\n",
       "      <td>True</td>\n",
       "      <td>False</td>\n",
       "      <td>arrest</td>\n",
       "      <td>False</td>\n",
       "      <td>False</td>\n",
       "      <td>NaN</td>\n",
       "      <td>NaN</td>\n",
       "      <td>FL</td>\n",
       "    </tr>\n",
       "    <tr>\n",
       "      <th>4</th>\n",
       "      <td>5|1402193</td>\n",
       "      <td>2010-01-12</td>\n",
       "      <td>02:00:26</td>\n",
       "      <td>NaN</td>\n",
       "      <td>HERNANDO</td>\n",
       "      <td>24</td>\n",
       "      <td>black</td>\n",
       "      <td>male</td>\n",
       "      <td>61b9fce8e1</td>\n",
       "      <td>NaN</td>\n",
       "      <td>NaN</td>\n",
       "      <td>NaN</td>\n",
       "      <td>NaN</td>\n",
       "      <td>FLORIDA HIGHWAY PATROL</td>\n",
       "      <td>C</td>\n",
       "      <td>vehicular</td>\n",
       "      <td>NaN</td>\n",
       "      <td>NaN</td>\n",
       "      <td>True</td>\n",
       "      <td>NaN</td>\n",
       "      <td>citation</td>\n",
       "      <td>NaN</td>\n",
       "      <td>NaN</td>\n",
       "      <td>NaN</td>\n",
       "      <td>NaN</td>\n",
       "      <td>FL</td>\n",
       "    </tr>\n",
       "    <tr>\n",
       "      <th>5</th>\n",
       "      <td>6|1402194</td>\n",
       "      <td>2010-01-13</td>\n",
       "      <td>06:14:04</td>\n",
       "      <td>NaN</td>\n",
       "      <td>BAY</td>\n",
       "      <td>22</td>\n",
       "      <td>white</td>\n",
       "      <td>female</td>\n",
       "      <td>1bfdff0bcb</td>\n",
       "      <td>NaN</td>\n",
       "      <td>NaN</td>\n",
       "      <td>NaN</td>\n",
       "      <td>NaN</td>\n",
       "      <td>FLORIDA HIGHWAY PATROL</td>\n",
       "      <td>NaN</td>\n",
       "      <td>vehicular</td>\n",
       "      <td>NaN</td>\n",
       "      <td>NaN</td>\n",
       "      <td>NaN</td>\n",
       "      <td>NaN</td>\n",
       "      <td>NaN</td>\n",
       "      <td>NaN</td>\n",
       "      <td>NaN</td>\n",
       "      <td>NaN</td>\n",
       "      <td>NaN</td>\n",
       "      <td>FL</td>\n",
       "    </tr>\n",
       "    <tr>\n",
       "      <th>6</th>\n",
       "      <td>7|1402195|7886542</td>\n",
       "      <td>2010-01-15</td>\n",
       "      <td>09:18:02</td>\n",
       "      <td>NaN</td>\n",
       "      <td>GADSDEN</td>\n",
       "      <td>26</td>\n",
       "      <td>white</td>\n",
       "      <td>male</td>\n",
       "      <td>6cdcbc9d4b</td>\n",
       "      <td>47.0</td>\n",
       "      <td>white</td>\n",
       "      <td>male</td>\n",
       "      <td>0.0</td>\n",
       "      <td>FLORIDA HIGHWAY PATROL</td>\n",
       "      <td>Q</td>\n",
       "      <td>vehicular</td>\n",
       "      <td>SPEED|FAULTY EQUIPMENT</td>\n",
       "      <td>False</td>\n",
       "      <td>False</td>\n",
       "      <td>True</td>\n",
       "      <td>warning</td>\n",
       "      <td>False</td>\n",
       "      <td>False</td>\n",
       "      <td>NaN</td>\n",
       "      <td>NaN</td>\n",
       "      <td>NY</td>\n",
       "    </tr>\n",
       "    <tr>\n",
       "      <th>7</th>\n",
       "      <td>8|1402196|7886543</td>\n",
       "      <td>2010-01-15</td>\n",
       "      <td>10:16:59</td>\n",
       "      <td>NaN</td>\n",
       "      <td>GADSDEN</td>\n",
       "      <td>42</td>\n",
       "      <td>hispanic</td>\n",
       "      <td>male</td>\n",
       "      <td>6cdcbc9d4b</td>\n",
       "      <td>47.0</td>\n",
       "      <td>white</td>\n",
       "      <td>male</td>\n",
       "      <td>0.0</td>\n",
       "      <td>FLORIDA HIGHWAY PATROL</td>\n",
       "      <td>Q</td>\n",
       "      <td>vehicular</td>\n",
       "      <td>FAULTY EQUIPMENT</td>\n",
       "      <td>False</td>\n",
       "      <td>False</td>\n",
       "      <td>False</td>\n",
       "      <td>NaN</td>\n",
       "      <td>False</td>\n",
       "      <td>True</td>\n",
       "      <td>consent</td>\n",
       "      <td>DOCUMENT INDICATORS|PHYSICAL / VISUAL INDICATORS</td>\n",
       "      <td>FL</td>\n",
       "    </tr>\n",
       "    <tr>\n",
       "      <th>8</th>\n",
       "      <td>9|1402197|7886544</td>\n",
       "      <td>2010-01-15</td>\n",
       "      <td>12:30:12</td>\n",
       "      <td>TALLAHASSEE</td>\n",
       "      <td>LEON</td>\n",
       "      <td>26</td>\n",
       "      <td>hispanic</td>\n",
       "      <td>male</td>\n",
       "      <td>6cdcbc9d4b</td>\n",
       "      <td>47.0</td>\n",
       "      <td>white</td>\n",
       "      <td>male</td>\n",
       "      <td>0.0</td>\n",
       "      <td>FLORIDA HIGHWAY PATROL</td>\n",
       "      <td>Q</td>\n",
       "      <td>vehicular</td>\n",
       "      <td>OTHER NON MOVING VIOLATIONS</td>\n",
       "      <td>False</td>\n",
       "      <td>False</td>\n",
       "      <td>True</td>\n",
       "      <td>warning</td>\n",
       "      <td>False</td>\n",
       "      <td>True</td>\n",
       "      <td>consent</td>\n",
       "      <td>PHYSICAL / VISUAL INDICATORS</td>\n",
       "      <td>FL</td>\n",
       "    </tr>\n",
       "    <tr>\n",
       "      <th>9</th>\n",
       "      <td>10|1402198</td>\n",
       "      <td>2010-01-15</td>\n",
       "      <td>13:26:05</td>\n",
       "      <td>NaN</td>\n",
       "      <td>LEON</td>\n",
       "      <td>27</td>\n",
       "      <td>white</td>\n",
       "      <td>female</td>\n",
       "      <td>c3d9d75a4b</td>\n",
       "      <td>NaN</td>\n",
       "      <td>NaN</td>\n",
       "      <td>NaN</td>\n",
       "      <td>NaN</td>\n",
       "      <td>FLORIDA HIGHWAY PATROL</td>\n",
       "      <td>H</td>\n",
       "      <td>vehicular</td>\n",
       "      <td>NaN</td>\n",
       "      <td>NaN</td>\n",
       "      <td>True</td>\n",
       "      <td>NaN</td>\n",
       "      <td>citation</td>\n",
       "      <td>NaN</td>\n",
       "      <td>NaN</td>\n",
       "      <td>NaN</td>\n",
       "      <td>NaN</td>\n",
       "      <td>VA</td>\n",
       "    </tr>\n",
       "  </tbody>\n",
       "</table>\n",
       "</div>"
      ],
      "text/plain": [
       "      raw_row_number        date      time      location county_name  subject_age subject_race subject_sex officer_id_hash  officer_age officer_race officer_sex  officer_years_of_service         department_name unit       type                                        violation arrest_made citation_issued warning_issued   outcome frisk_performed search_conducted search_basis                                 reason_for_search vehicle_registration_state\n",
       "0          1|1402189  2010-01-01  23:11:16           NaN    SARASOTA           24          NaN      female      e15ccc3f41          NaN          NaN         NaN                       NaN  FLORIDA HIGHWAY PATROL    F  vehicular                                              NaN         NaN            True            NaN  citation             NaN              NaN          NaN                                               NaN                         FL\n",
       "1  2|1402190|7476252  2010-01-06  16:14:43  JACKSONVILLE       DUVAL           23        white      female      a23eeba673         31.0        black        male                       8.0  FLORIDA HIGHWAY PATROL    G  vehicular                                            SPEED       False            True            NaN  citation           False            False          NaN                                               NaN                         NC\n",
       "2  3|1402191|9513092  2010-01-08  19:39:31  JACKSONVILLE       DUVAL           45        white      female      f0489ce476         29.0        white        male                       3.0  FLORIDA HIGHWAY PATROL    G  vehicular                         DUI|DUI|CARELESS DRIVING        True            True          False    arrest           False            False          NaN                                               NaN                         FL\n",
       "3  4|1402192|9484049  2010-01-11  11:56:34           NaN   ST. LUCIE           41        white        male      bb47e316ba         26.0        white        male                       3.0  FLORIDA HIGHWAY PATROL    L  vehicular  DRIVING WHILE LICENSE SUSPENDED / REVOKED|SPEED        True            True          False    arrest           False            False          NaN                                               NaN                         FL\n",
       "4          5|1402193  2010-01-12  02:00:26           NaN    HERNANDO           24        black        male      61b9fce8e1          NaN          NaN         NaN                       NaN  FLORIDA HIGHWAY PATROL    C  vehicular                                              NaN         NaN            True            NaN  citation             NaN              NaN          NaN                                               NaN                         FL\n",
       "5          6|1402194  2010-01-13  06:14:04           NaN         BAY           22        white      female      1bfdff0bcb          NaN          NaN         NaN                       NaN  FLORIDA HIGHWAY PATROL  NaN  vehicular                                              NaN         NaN             NaN            NaN       NaN             NaN              NaN          NaN                                               NaN                         FL\n",
       "6  7|1402195|7886542  2010-01-15  09:18:02           NaN     GADSDEN           26        white        male      6cdcbc9d4b         47.0        white        male                       0.0  FLORIDA HIGHWAY PATROL    Q  vehicular                           SPEED|FAULTY EQUIPMENT       False           False           True   warning           False            False          NaN                                               NaN                         NY\n",
       "7  8|1402196|7886543  2010-01-15  10:16:59           NaN     GADSDEN           42     hispanic        male      6cdcbc9d4b         47.0        white        male                       0.0  FLORIDA HIGHWAY PATROL    Q  vehicular                                 FAULTY EQUIPMENT       False           False          False       NaN           False             True      consent  DOCUMENT INDICATORS|PHYSICAL / VISUAL INDICATORS                         FL\n",
       "8  9|1402197|7886544  2010-01-15  12:30:12   TALLAHASSEE        LEON           26     hispanic        male      6cdcbc9d4b         47.0        white        male                       0.0  FLORIDA HIGHWAY PATROL    Q  vehicular                      OTHER NON MOVING VIOLATIONS       False           False           True   warning           False             True      consent                      PHYSICAL / VISUAL INDICATORS                         FL\n",
       "9         10|1402198  2010-01-15  13:26:05           NaN        LEON           27        white      female      c3d9d75a4b          NaN          NaN         NaN                       NaN  FLORIDA HIGHWAY PATROL    H  vehicular                                              NaN         NaN            True            NaN  citation             NaN              NaN          NaN                                               NaN                         VA"
      ]
     },
     "execution_count": 3,
     "metadata": {},
     "output_type": "execute_result"
    }
   ],
   "source": [
    "df_fl_min.head(10)"
   ]
  },
  {
   "cell_type": "code",
   "execution_count": 4,
   "metadata": {},
   "outputs": [
    {
     "data": {
      "text/plain": [
       "raw_row_number                 object\n",
       "date                           object\n",
       "time                           object\n",
       "location                       object\n",
       "county_name                    object\n",
       "subject_age                     int64\n",
       "subject_race                   object\n",
       "subject_sex                    object\n",
       "officer_id_hash                object\n",
       "officer_age                   float64\n",
       "officer_race                   object\n",
       "officer_sex                    object\n",
       "officer_years_of_service      float64\n",
       "department_name                object\n",
       "unit                           object\n",
       "type                           object\n",
       "violation                      object\n",
       "arrest_made                    object\n",
       "citation_issued                object\n",
       "warning_issued                 object\n",
       "outcome                        object\n",
       "frisk_performed                object\n",
       "search_conducted               object\n",
       "search_basis                   object\n",
       "reason_for_search              object\n",
       "vehicle_registration_state     object\n",
       "dtype: object"
      ]
     },
     "execution_count": 4,
     "metadata": {},
     "output_type": "execute_result"
    }
   ],
   "source": [
    "df_fl_min.dtypes"
   ]
  },
  {
   "cell_type": "markdown",
   "metadata": {},
   "source": [
    "Some notes:\n",
    "- Columns to drop almost certainly:\n",
    "  - raw_row_number\n",
    "  - location (majority nan)\n",
    "  - officer_id_hash\n",
    "  - department_name\n",
    "  - unit\n",
    "  - type (all vehicular)\n",
    "  - arrest_made, citation_issued, warning_issued (just keep outcome)\n",
    "  - reason for search (just use search basis)\n",
    "\n",
    "\n",
    "- Columns to keep but keep separate lists for dropping:\n",
    "  - Officer related (age, race, sex, years of service) (may not make sense for use-case)\n",
    "  - search related (frisk_performed, search_conducted, search_basis, reason_for_search)\n",
    "  \n",
    "\n",
    "- Below, convert some columns with read_csv to try to reduce memory usage"
   ]
  },
  {
   "cell_type": "code",
   "execution_count": 5,
   "metadata": {},
   "outputs": [],
   "source": [
    "cols2load = ['date', 'time', 'county_name', 'subject_age', 'subject_race', 'subject_sex',\n",
    "             'officer_age', 'officer_race', 'officer_sex', 'officer_years_of_service', 'violation', 'outcome',\n",
    "             'frisk_performed', 'search_conducted', 'search_basis', 'vehicle_registration_state']\n",
    "\n",
    "officer_cols = ['officer_age', 'officer_race', 'officer_sex', 'officer_years_of_service']\n",
    "\n",
    "search_cols = ['frisk_performed', 'search_conducted', 'search_basis', 'reason_for_search']"
   ]
  },
  {
   "cell_type": "code",
   "execution_count": 6,
   "metadata": {},
   "outputs": [],
   "source": [
    "#type_dict = {'subject_age': 'int8',\n",
    "#             'officer_age': 'int8',\n",
    "#             'officer_years_of_service':  'int8',\n",
    "#             'county_name': 'category',\n",
    "#             'subject_race': 'category',\n",
    "#             'subject_sex': 'category',\n",
    "#            'subject_race': 'category',\n",
    "#            'officer_race': 'category',\n",
    "#             'officer_sex': 'category',\n",
    "#             'outcome': 'category'\n",
    "#             }\n",
    "\n",
    "type_dict_cats = {'county_name': 'category', # just convert categorical columns to start\n",
    "                  'subject_race': 'category',\n",
    "                  'subject_sex': 'category',\n",
    "                  'subject_race': 'category',\n",
    "                  'officer_race': 'category',\n",
    "                  'officer_sex': 'category',\n",
    "                  'outcome': 'category'\n",
    "                 }\n",
    "\n",
    "date_dict = {'datetime': [0, 1]} # use to parse dates while reading in"
   ]
  },
  {
   "cell_type": "markdown",
   "metadata": {},
   "source": [
    "Read in the data, hopefully with a somewhat lower memory"
   ]
  },
  {
   "cell_type": "code",
   "execution_count": 7,
   "metadata": {},
   "outputs": [],
   "source": [
    "df_fl = pd.read_csv('data/fl_statewide.csv.zip', usecols=cols2load, dtype=type_dict_cats, \n",
    "                    parse_dates=date_dict, compression='infer', low_memory=False)"
   ]
  },
  {
   "cell_type": "code",
   "execution_count": 8,
   "metadata": {},
   "outputs": [
    {
     "name": "stdout",
     "output_type": "stream",
     "text": [
      "<class 'pandas.core.frame.DataFrame'>\n",
      "RangeIndex: 5424352 entries, 0 to 5424351\n",
      "Data columns (total 15 columns):\n",
      "datetime                      datetime64[ns]\n",
      "county_name                   category\n",
      "subject_age                   float64\n",
      "subject_race                  category\n",
      "subject_sex                   category\n",
      "officer_age                   float64\n",
      "officer_race                  category\n",
      "officer_sex                   category\n",
      "officer_years_of_service      float64\n",
      "violation                     object\n",
      "outcome                       category\n",
      "frisk_performed               object\n",
      "search_conducted              object\n",
      "search_basis                  object\n",
      "vehicle_registration_state    object\n",
      "dtypes: category(6), datetime64[ns](1), float64(3), object(5)\n",
      "memory usage: 1.3 GB\n"
     ]
    }
   ],
   "source": [
    "df_fl.info(memory_usage='deep')"
   ]
  },
  {
   "cell_type": "markdown",
   "metadata": {},
   "source": [
    "## Explore target variable"
   ]
  },
  {
   "cell_type": "markdown",
   "metadata": {},
   "source": [
    "Look at the distrubution of outcomes"
   ]
  },
  {
   "cell_type": "code",
   "execution_count": 9,
   "metadata": {},
   "outputs": [
    {
     "data": {
      "text/plain": [
       "citation    3953889\n",
       "warning     1215121\n",
       "arrest       175282\n",
       "Name: outcome, dtype: int64"
      ]
     },
     "execution_count": 9,
     "metadata": {},
     "output_type": "execute_result"
    }
   ],
   "source": [
    "df_fl['outcome'].value_counts()"
   ]
  },
  {
   "cell_type": "code",
   "execution_count": 10,
   "metadata": {},
   "outputs": [
    {
     "name": "stdout",
     "output_type": "stream",
     "text": [
      "0.7289145320952622\n",
      "0.22401219537375155\n",
      "0.03231390588221413\n"
     ]
    }
   ],
   "source": [
    "outcome = ['citation', 'warning', 'arrest']\n",
    "for oc in outcome:\n",
    "    print(df_fl['outcome'].value_counts()[oc]/df_fl.shape[0])"
   ]
  },
  {
   "cell_type": "markdown",
   "metadata": {},
   "source": [
    "Look at a bar plot of outcomes"
   ]
  },
  {
   "cell_type": "code",
   "execution_count": 11,
   "metadata": {},
   "outputs": [
    {
     "data": {
      "text/plain": [
       "Text(0.5, 1.0, 'Outcome Distribution')"
      ]
     },
     "execution_count": 11,
     "metadata": {},
     "output_type": "execute_result"
    },
    {
     "data": {
      "image/png": "[encoded data removed]",
      "text/plain": [
       "<Figure size 576x576 with 1 Axes>"
      ]
     },
     "metadata": {
      "needs_background": "light"
     },
     "output_type": "display_data"
    }
   ],
   "source": [
    "plot_d = {'Citation': np.sum(df_fl['outcome'] == 'citation'), \n",
    "          'Warning': np.sum(df_fl['outcome'] == 'warning'),\n",
    "          'Arrest': np.sum(df_fl['outcome'] == 'arrest')}\n",
    "labels = list(plot_d.keys())\n",
    "values = list(plot_d.values())\n",
    "\n",
    "fig, ax = plt.subplots(figsize=(8, 8))\n",
    "ax.bar(labels, values)\n",
    "plt.title('Outcome Distribution')"
   ]
  },
  {
   "cell_type": "markdown",
   "metadata": {},
   "source": [
    "## Explore and clean feature columns"
   ]
  },
  {
   "cell_type": "markdown",
   "metadata": {},
   "source": [
    "Taking a look at violations, there is a vast amount of different descriptions, will have to aggregate these into subcategories if want to use a predictor"
   ]
  },
  {
   "cell_type": "code",
   "execution_count": 12,
   "metadata": {},
   "outputs": [
    {
     "data": {
      "text/plain": [
       "35384"
      ]
     },
     "execution_count": 12,
     "metadata": {},
     "output_type": "execute_result"
    }
   ],
   "source": [
    "len(df_fl['violation'].value_counts())"
   ]
  },
  {
   "cell_type": "code",
   "execution_count": 13,
   "metadata": {},
   "outputs": [
    {
     "data": {
      "text/plain": [
       "SPEED                                                                                                                                       1934820\n",
       "SEATBELT (DRIVER)                                                                                                                            201588\n",
       "CMV INSPECTION                                                                                                                               182551\n",
       "SPEED|PROOF OF INSURANCE                                                                                                                     161066\n",
       "VIOLATIONS OF TRAFFIC CONTROL DEVICE                                                                                                         145366\n",
       "                                                                                                                                             ...   \n",
       "EXPIRED DRIVERS LICENSE (MORE THAN 4 MONTHS)|ATTACHING TAG NOT ASSIGNED|SEATBELT (DRIVER)                                                         1\n",
       "DRIVING WITHOUT HEADLIGHTS|IMPROPER CHANGE OF LANE OR COURSE|SEATBELT (DRIVER)                                                                    1\n",
       "OTHER MOVING VIOLATIONS|SPEED|OBSTRUCTING THE ROADWAY|PROOF OF INSURANCE                                                                          1\n",
       "SEATBELT (DRIVER)|SEATBELT (PASSENGER)|SEATBELT (DRIVER)|SEATBELT (PASSENGER)|PROOF OF INSURANCE                                                  1\n",
       "EXPIRED TAG (6 MONTHS OR LESS)|FAILURE TO EXHIBIT DL UPON DEMAND|PROOF OF INSURANCE|PROOF OF INSURANCE|FAILURE TO EXHIBIT DL UPON DEMAND          1\n",
       "Name: violation, Length: 35384, dtype: int64"
      ]
     },
     "execution_count": 13,
     "metadata": {},
     "output_type": "execute_result"
    }
   ],
   "source": [
    "df_fl['violation'].value_counts()"
   ]
  },
  {
   "cell_type": "markdown",
   "metadata": {},
   "source": [
    "Looks like there are some duplicate counties due to upper/lower case differences. See if setting all to upper takes care of this -- there should be only 67 unique."
   ]
  },
  {
   "cell_type": "code",
   "execution_count": 14,
   "metadata": {},
   "outputs": [
    {
     "data": {
      "text/plain": [
       "MIAMI-DADE    487762\n",
       "PALM BEACH    433691\n",
       "BROWARD       375960\n",
       "ORANGE        369129\n",
       "ST. LUCIE     188519\n",
       "               ...  \n",
       "ST JOHNS         354\n",
       "Charlotte          2\n",
       "THOMAS             1\n",
       "Martin             1\n",
       "BALDWIN            1\n",
       "Name: county_name, Length: 73, dtype: int64"
      ]
     },
     "execution_count": 14,
     "metadata": {},
     "output_type": "execute_result"
    }
   ],
   "source": [
    "df_fl['county_name'].value_counts()"
   ]
  },
  {
   "cell_type": "code",
   "execution_count": 15,
   "metadata": {},
   "outputs": [
    {
     "data": {
      "text/plain": [
       "89017"
      ]
     },
     "execution_count": 15,
     "metadata": {},
     "output_type": "execute_result"
    }
   ],
   "source": [
    "sum(df_fl['county_name']=='MARTIN')"
   ]
  },
  {
   "cell_type": "code",
   "execution_count": 16,
   "metadata": {},
   "outputs": [],
   "source": [
    "df_fl['county_name'] = df_fl['county_name'].apply(lambda x: x.upper())"
   ]
  },
  {
   "cell_type": "code",
   "execution_count": 17,
   "metadata": {},
   "outputs": [
    {
     "data": {
      "text/plain": [
       "89018"
      ]
     },
     "execution_count": 17,
     "metadata": {},
     "output_type": "execute_result"
    }
   ],
   "source": [
    "sum(df_fl['county_name']=='MARTIN')"
   ]
  },
  {
   "cell_type": "code",
   "execution_count": 18,
   "metadata": {},
   "outputs": [
    {
     "data": {
      "text/plain": [
       "72"
      ]
     },
     "execution_count": 18,
     "metadata": {},
     "output_type": "execute_result"
    }
   ],
   "source": [
    "len(df_fl['county_name'].unique())"
   ]
  },
  {
   "cell_type": "markdown",
   "metadata": {},
   "source": [
    "Still some duplicates, need to take a closer look"
   ]
  },
  {
   "cell_type": "code",
   "execution_count": 19,
   "metadata": {},
   "outputs": [
    {
     "data": {
      "text/plain": [
       "array(['SARASOTA', 'DUVAL', 'ST. LUCIE', 'HERNANDO', 'BAY', 'GADSDEN',\n",
       "       'LEON', 'CALHOUN', 'TAYLOR', 'MADISON', 'JEFFERSON', 'WAKULLA',\n",
       "       'HAMILTON', 'COLUMBIA', 'PASCO', 'MARION', 'ALACHUA', 'SUWANNEE',\n",
       "       'PALM BEACH', 'FRANKLIN', 'LIBERTY', 'SUMTER', 'MANATEE',\n",
       "       'MIAMI-DADE', 'DIXIE', 'GILCHRIST', 'JACKSON', 'LEVY', 'LAFAYETTE',\n",
       "       'ESCAMBIA', 'WASHINGTON', 'ST. JOHNS', 'SANTA ROSA', 'WALTON',\n",
       "       'OKALOOSA', 'HARDEE', 'HOLMES', 'BAKER', 'BRADFORD', 'CLAY',\n",
       "       'UNION', 'COLLIER', 'ORANGE', 'NASSAU', 'GULF', 'PUTNAM',\n",
       "       'HIGHLANDS', 'FLAGLER', 'HILLSBOROUGH', 'CITRUS', 'LEE', 'POLK',\n",
       "       'PINELLAS', 'VOLUSIA', 'BROWARD', 'DESOTO', 'CHARLOTTE', 'HENDRY',\n",
       "       'GLADES', 'MONROE', 'INDIAN RIVER', 'SEMINOLE', 'LAKE', 'BREVARD',\n",
       "       'OSCEOLA', 'OKEECHOBEE', 'MARTIN', 'ST LUCIE', 'ST JOHNS', nan,\n",
       "       'BALDWIN', 'THOMAS'], dtype=object)"
      ]
     },
     "execution_count": 19,
     "metadata": {},
     "output_type": "execute_result"
    }
   ],
   "source": [
    "df_fl['county_name'].unique()"
   ]
  },
  {
   "cell_type": "code",
   "execution_count": 20,
   "metadata": {},
   "outputs": [
    {
     "data": {
      "text/plain": [
       "MIAMI-DADE    487762\n",
       "PALM BEACH    433691\n",
       "BROWARD       375960\n",
       "ORANGE        369129\n",
       "ST. LUCIE     188519\n",
       "               ...  \n",
       "GULF            3160\n",
       "ST LUCIE         469\n",
       "ST JOHNS         354\n",
       "BALDWIN            1\n",
       "THOMAS             1\n",
       "Name: county_name, Length: 71, dtype: int64"
      ]
     },
     "execution_count": 20,
     "metadata": {},
     "output_type": "execute_result"
    }
   ],
   "source": [
    "df_fl['county_name'].value_counts()"
   ]
  },
  {
   "cell_type": "markdown",
   "metadata": {},
   "source": [
    "St Lucie/St. Lucie and St. Johns are dupes. Looks like Thomas, Baldwin are not counties. That should take care of it."
   ]
  },
  {
   "cell_type": "code",
   "execution_count": 21,
   "metadata": {},
   "outputs": [],
   "source": [
    "df_fl.loc[df_fl['county_name']=='ST. LUCIE', 'county_name'] = 'ST LUCIE'\n",
    "df_fl.loc[df_fl['county_name']=='ST. JOHNS', 'county_name'] = 'ST JOHNS'\n",
    "df_fl = df_fl[df_fl['county_name'] != 'BALDWIN']\n",
    "df_fl = df_fl[df_fl['county_name'] != 'THOMAS']"
   ]
  },
  {
   "cell_type": "code",
   "execution_count": 22,
   "metadata": {},
   "outputs": [
    {
     "data": {
      "text/plain": [
       "68"
      ]
     },
     "execution_count": 22,
     "metadata": {},
     "output_type": "execute_result"
    }
   ],
   "source": [
    "len(df_fl['county_name'].unique())"
   ]
  },
  {
   "cell_type": "markdown",
   "metadata": {},
   "source": [
    "With some as nan, this is correct!"
   ]
  },
  {
   "cell_type": "code",
   "execution_count": 23,
   "metadata": {},
   "outputs": [
    {
     "data": {
      "text/plain": [
       "52"
      ]
     },
     "execution_count": 23,
     "metadata": {},
     "output_type": "execute_result"
    }
   ],
   "source": [
    "len(df_fl['vehicle_registration_state'].unique())"
   ]
  },
  {
   "cell_type": "code",
   "execution_count": 24,
   "metadata": {},
   "outputs": [
    {
     "data": {
      "text/plain": [
       "FL    3634798\n",
       "GA      92256\n",
       "AL      50010\n",
       "TX      31626\n",
       "TN      28586\n",
       "NC      18327\n",
       "NY      17609\n",
       "LA      16429\n",
       "IL      15749\n",
       "IN      14495\n",
       "SC      13840\n",
       "OH      13659\n",
       "PA      13300\n",
       "NJ      12545\n",
       "VA      11857\n",
       "MS      11296\n",
       "MI      10318\n",
       "KY       7887\n",
       "MD       7780\n",
       "CA       7649\n",
       "MA       6793\n",
       "MO       5668\n",
       "OK       5228\n",
       "WI       4080\n",
       "CT       3851\n",
       "AZ       3343\n",
       "AR       3210\n",
       "MN       2692\n",
       "CO       2567\n",
       "IA       1873\n",
       "WA       1736\n",
       "NH       1614\n",
       "KS       1513\n",
       "ME       1468\n",
       "NE       1362\n",
       "RI       1349\n",
       "WV       1325\n",
       "DE       1166\n",
       "NV       1076\n",
       "NM       1018\n",
       "OR        964\n",
       "AK        763\n",
       "UT        720\n",
       "VT        624\n",
       "MT        507\n",
       "DC        452\n",
       "SD        428\n",
       "ID        413\n",
       "ND        349\n",
       "HI        247\n",
       "WY        230\n",
       "Name: vehicle_registration_state, dtype: int64"
      ]
     },
     "execution_count": 24,
     "metadata": {},
     "output_type": "execute_result"
    }
   ],
   "source": [
    "df_fl['vehicle_registration_state'].value_counts()"
   ]
  },
  {
   "cell_type": "code",
   "execution_count": 25,
   "metadata": {},
   "outputs": [
    {
     "data": {
      "text/plain": [
       "1335705"
      ]
     },
     "execution_count": 25,
     "metadata": {},
     "output_type": "execute_result"
    }
   ],
   "source": [
    "sum(df_fl['vehicle_registration_state'].isna())"
   ]
  },
  {
   "cell_type": "markdown",
   "metadata": {},
   "source": [
    "State of registration is clean, although with many missing values. To use as category might be best to group into regions."
   ]
  },
  {
   "cell_type": "code",
   "execution_count": 26,
   "metadata": {},
   "outputs": [],
   "source": [
    "regions_d = {'AL': 'Southeast',\n",
    "             'AK': 'Northwest',\n",
    "             'AZ': 'Southwest',\n",
    "             'AR': 'South',\n",
    "             'CA': 'Pacific',\n",
    "             'CO': 'Mountain',\n",
    "             'CT': 'New England',\n",
    "             'DE': 'Mid Atlantic',\n",
    "             'FL': 'Instate',\n",
    "             'GA': 'South Atlantic',\n",
    "             'HI': 'Pacific',\n",
    "             'ID': 'Mountain',\n",
    "             'IL': 'Great Lakes',\n",
    "             'IN': 'Great Lakes',\n",
    "             'IA': 'Midwest',\n",
    "             'KS': 'Midwest',\n",
    "             'KY': 'South',\n",
    "             'LA': 'South',\n",
    "             'ME': 'New England',\n",
    "             'MD': 'Mid Atlantic',\n",
    "             'MA': 'New England',\n",
    "             'MI': 'Great Lakes',\n",
    "             'MN': 'Great Lakes',\n",
    "             'MS': 'South',\n",
    "             'MO': 'Midwest',\n",
    "             'MT': 'Mountain',\n",
    "             'NE': 'Midwest',\n",
    "             'NV': 'Mountain',\n",
    "             'NH': 'New England',\n",
    "             'NJ': 'Mid Atlantic',\n",
    "             'NM': 'Southwest',\n",
    "             'NY': 'Mid Atlantic',\n",
    "             'NC': 'South Atlantic',\n",
    "             'ND': 'Midwest',\n",
    "             'OH': 'Great Lakes',\n",
    "             'OK': 'Southwest',\n",
    "             'OR': 'Northwest',\n",
    "             'PA': 'Mid Atlantic',\n",
    "             'RI': 'New England',\n",
    "             'SC': 'South Atlantic',\n",
    "             'SD': 'Midwest',\n",
    "             'TN': 'South',\n",
    "             'TX': 'Southwest',\n",
    "             'UT': 'Mountain',\n",
    "             'VT': 'New England',\n",
    "             'VA': 'South Atlantic',\n",
    "             'WA': 'Northwest',\n",
    "             'WV': 'South Atlantic',\n",
    "             'WI': 'Great Lakes',\n",
    "             'WY': 'Mountain'}"
   ]
  },
  {
   "cell_type": "code",
   "execution_count": 27,
   "metadata": {},
   "outputs": [],
   "source": [
    "df_fl['vehicle_region'] = df_fl['vehicle_registration_state'].map(regions_d)"
   ]
  },
  {
   "cell_type": "code",
   "execution_count": 28,
   "metadata": {},
   "outputs": [
    {
     "data": {
      "text/plain": [
       "Instate           3634798\n",
       "South Atlantic     137605\n",
       "South               67408\n",
       "Great Lakes         60993\n",
       "Mid Atlantic        52400\n",
       "Southeast           50010\n",
       "Southwest           41215\n",
       "New England         15699\n",
       "Midwest             11193\n",
       "Pacific              7896\n",
       "Mountain             5513\n",
       "Northwest            3463\n",
       "Name: vehicle_region, dtype: int64"
      ]
     },
     "execution_count": 28,
     "metadata": {},
     "output_type": "execute_result"
    }
   ],
   "source": [
    "df_fl['vehicle_region'].value_counts()"
   ]
  },
  {
   "cell_type": "markdown",
   "metadata": {},
   "source": [
    "## Examine missingness"
   ]
  },
  {
   "cell_type": "markdown",
   "metadata": {},
   "source": [
    "Get a sense of how many nans are in each column"
   ]
  },
  {
   "cell_type": "code",
   "execution_count": 29,
   "metadata": {},
   "outputs": [
    {
     "name": "stdout",
     "output_type": "stream",
     "text": [
      "datetime has 0 missing values, about 0.0%\n",
      "county_name has 1 missing values, about 0.0%\n",
      "subject_age has 1328300 missing values, about 24.488%\n",
      "subject_race has 1384 missing values, about 0.026%\n",
      "subject_sex has 1317640 missing values, about 24.291%\n",
      "officer_age has 996782 missing values, about 18.376%\n",
      "officer_race has 1229230 missing values, about 22.661%\n",
      "officer_sex has 745137 missing values, about 13.737%\n",
      "officer_years_of_service has 423471 missing values, about 7.807%\n",
      "violation has 422602 missing values, about 7.791%\n",
      "outcome has 80060 missing values, about 1.476%\n",
      "frisk_performed has 422592 missing values, about 7.791%\n",
      "search_conducted has 426717 missing values, about 7.867%\n",
      "search_basis has 5395618 missing values, about 99.47%\n",
      "vehicle_registration_state has 1335705 missing values, about 24.624%\n",
      "vehicle_region has 1336157 missing values, about 24.633%\n"
     ]
    }
   ],
   "source": [
    "for col in df_fl.columns:\n",
    "    num_missing = np.sum(df_fl[col].isna())\n",
    "    print(f'{col} has {num_missing} missing values, about {np.round((num_missing/df_fl.shape[0])*100, 3)}%')"
   ]
  },
  {
   "cell_type": "code",
   "execution_count": 30,
   "metadata": {},
   "outputs": [],
   "source": [
    "#df_fl_sub = df_fl.drop(search_cols, axis=1)\n",
    "#df_fl_dropnas = df_fl_sub.dropna() # df_fl_sub does not contain the search-related columns\n",
    "#df_fl.shape[0] - df_fl_dropnas.shape[0]"
   ]
  },
  {
   "cell_type": "markdown",
   "metadata": {},
   "source": [
    "A goddamn lot of missing data. The search related data is to be expected since searches are rare. But even after dropping search-related columns, if dropping all missing, we lose ~2.5m rows! But that still leaves about 2.8m. That would be a quick and dirty approach for but would like to retain some of these if possible.\n",
    "\n",
    "Some ideas for handling missingness:\n",
    "- subject age: impute mean or median\n",
    "- subject race: negligible, drop missing\n",
    "- subject sex: assume same ratio of males to females and impute accordingly\n",
    "- officer age: impute mean or median\n",
    "- officer race: yikes, this is a tough one, but would really like to use this feature\n",
    "- officer sex: not as bad, but would like to retain, could impute expected ratio\n",
    "- officer years of service: impute mean or median (likely median)\n",
    "- violation: will need to aggregate anyway, can just throw missing into 'other' category\n",
    "- frisk performed: assume false if missing\n",
    "- search conducted: assume false if missing\n",
    "- reason for search/search_basis: if search conducted 'other', if no search 'no search'\n",
    "- vehicle_registration_state: "
   ]
  },
  {
   "cell_type": "markdown",
   "metadata": {},
   "source": [
    "For now (7/31) I will work with the nan-free dataset, but I do want to correct the values in the search-related columns, assuming if missing that no search/frisk was performed, and obviously no reason is given. Think I will drop reason given and just use search basis for simplicity's sake."
   ]
  },
  {
   "cell_type": "markdown",
   "metadata": {},
   "source": [
    "Confirming here that if a search was conducted, a basis was given, and vice versa. Below shows the number of bases given matches the number of searches."
   ]
  },
  {
   "cell_type": "code",
   "execution_count": 31,
   "metadata": {},
   "outputs": [
    {
     "data": {
      "text/plain": [
       "28732"
      ]
     },
     "execution_count": 31,
     "metadata": {},
     "output_type": "execute_result"
    }
   ],
   "source": [
    "df_fl['search_basis'].value_counts().values.sum()"
   ]
  },
  {
   "cell_type": "code",
   "execution_count": 32,
   "metadata": {},
   "outputs": [
    {
     "data": {
      "text/plain": [
       "False    4968901\n",
       "True       28732\n",
       "Name: search_conducted, dtype: int64"
      ]
     },
     "execution_count": 32,
     "metadata": {},
     "output_type": "execute_result"
    }
   ],
   "source": [
    "df_fl['search_conducted'].value_counts()"
   ]
  },
  {
   "cell_type": "markdown",
   "metadata": {},
   "source": [
    "Do some sanity checks regarding filling missing values with 'none' or False for the search columns."
   ]
  },
  {
   "cell_type": "code",
   "execution_count": 33,
   "metadata": {},
   "outputs": [
    {
     "data": {
      "text/plain": [
       "0    none\n",
       "1    none\n",
       "2    none\n",
       "3    none\n",
       "4    none\n",
       "Name: search_basis, dtype: object"
      ]
     },
     "execution_count": 33,
     "metadata": {},
     "output_type": "execute_result"
    }
   ],
   "source": [
    "df_fl_min['search_basis'].fillna('none').head()"
   ]
  },
  {
   "cell_type": "code",
   "execution_count": 34,
   "metadata": {},
   "outputs": [
    {
     "data": {
      "text/plain": [
       "0     False\n",
       "1     False\n",
       "2     False\n",
       "3     False\n",
       "4     False\n",
       "5     False\n",
       "6     False\n",
       "7      True\n",
       "8      True\n",
       "9     False\n",
       "10    False\n",
       "11    False\n",
       "12    False\n",
       "13    False\n",
       "14    False\n",
       "15    False\n",
       "16    False\n",
       "17    False\n",
       "18    False\n",
       "19    False\n",
       "20    False\n",
       "21    False\n",
       "22    False\n",
       "23    False\n",
       "24    False\n",
       "25    False\n",
       "26    False\n",
       "27    False\n",
       "28    False\n",
       "29    False\n",
       "30    False\n",
       "31    False\n",
       "32    False\n",
       "33    False\n",
       "34    False\n",
       "35    False\n",
       "36    False\n",
       "37    False\n",
       "38    False\n",
       "39    False\n",
       "40    False\n",
       "41    False\n",
       "42    False\n",
       "43    False\n",
       "44    False\n",
       "45    False\n",
       "46    False\n",
       "47    False\n",
       "48    False\n",
       "49    False\n",
       "Name: search_conducted, dtype: bool"
      ]
     },
     "execution_count": 34,
     "metadata": {},
     "output_type": "execute_result"
    }
   ],
   "source": [
    "df_fl_min['search_conducted'].fillna(False)"
   ]
  },
  {
   "cell_type": "code",
   "execution_count": 35,
   "metadata": {},
   "outputs": [
    {
     "data": {
      "text/plain": [
       "0     False\n",
       "1     False\n",
       "2     False\n",
       "3     False\n",
       "4     False\n",
       "5     False\n",
       "6     False\n",
       "7     False\n",
       "8     False\n",
       "9     False\n",
       "10    False\n",
       "11    False\n",
       "12    False\n",
       "13    False\n",
       "14    False\n",
       "15    False\n",
       "16    False\n",
       "17    False\n",
       "18    False\n",
       "19    False\n",
       "20    False\n",
       "21    False\n",
       "22    False\n",
       "23    False\n",
       "24    False\n",
       "25    False\n",
       "26    False\n",
       "27    False\n",
       "28    False\n",
       "29    False\n",
       "30    False\n",
       "31    False\n",
       "32    False\n",
       "33    False\n",
       "34    False\n",
       "35    False\n",
       "36    False\n",
       "37    False\n",
       "38    False\n",
       "39    False\n",
       "40    False\n",
       "41    False\n",
       "42    False\n",
       "43    False\n",
       "44    False\n",
       "45    False\n",
       "46    False\n",
       "47    False\n",
       "48    False\n",
       "49    False\n",
       "Name: frisk_performed, dtype: bool"
      ]
     },
     "execution_count": 35,
     "metadata": {},
     "output_type": "execute_result"
    }
   ],
   "source": [
    "df_fl_min['frisk_performed'].fillna(False)"
   ]
  },
  {
   "cell_type": "markdown",
   "metadata": {},
   "source": [
    "Now do it for real! Check for missingness like above afterwards."
   ]
  },
  {
   "cell_type": "code",
   "execution_count": 36,
   "metadata": {},
   "outputs": [],
   "source": [
    "df_fl['search_conducted'].fillna(False, inplace=True)\n",
    "df_fl['search_basis'].fillna('none', inplace=True)\n",
    "df_fl['frisk_performed'].fillna(False, inplace=True)"
   ]
  },
  {
   "cell_type": "code",
   "execution_count": 37,
   "metadata": {},
   "outputs": [
    {
     "name": "stdout",
     "output_type": "stream",
     "text": [
      "datetime has 0 missing values, about 0.0%\n",
      "county_name has 1 missing values, about 0.0%\n",
      "subject_age has 1328300 missing values, about 24.488%\n",
      "subject_race has 1384 missing values, about 0.026%\n",
      "subject_sex has 1317640 missing values, about 24.291%\n",
      "officer_age has 996782 missing values, about 18.376%\n",
      "officer_race has 1229230 missing values, about 22.661%\n",
      "officer_sex has 745137 missing values, about 13.737%\n",
      "officer_years_of_service has 423471 missing values, about 7.807%\n",
      "violation has 422602 missing values, about 7.791%\n",
      "outcome has 80060 missing values, about 1.476%\n",
      "frisk_performed has 0 missing values, about 0.0%\n",
      "search_conducted has 0 missing values, about 0.0%\n",
      "search_basis has 0 missing values, about 0.0%\n",
      "vehicle_registration_state has 1335705 missing values, about 24.624%\n",
      "vehicle_region has 1336157 missing values, about 24.633%\n"
     ]
    }
   ],
   "source": [
    "for col in df_fl.columns:\n",
    "    num_missing = np.sum(df_fl[col].isna())\n",
    "    print(f'{col} has {num_missing} missing values, about {np.round((num_missing/df_fl.shape[0])*100, 3)}%')"
   ]
  },
  {
   "cell_type": "markdown",
   "metadata": {},
   "source": [
    "## Clean 'violation' feature through aggregation"
   ]
  },
  {
   "cell_type": "markdown",
   "metadata": {},
   "source": [
    "Now to clean up the violation column...\n",
    "First step: just fill the nas as 'NR' for not recorded, see how many there are."
   ]
  },
  {
   "cell_type": "code",
   "execution_count": 38,
   "metadata": {},
   "outputs": [
    {
     "data": {
      "text/plain": [
       "SPEED                                                                                                                                       1934820\n",
       "NR                                                                                                                                           422602\n",
       "SEATBELT (DRIVER)                                                                                                                            201588\n",
       "CMV INSPECTION                                                                                                                               182551\n",
       "SPEED|PROOF OF INSURANCE                                                                                                                     161066\n",
       "                                                                                                                                             ...   \n",
       "EXPIRED DRIVERS LICENSE (MORE THAN 4 MONTHS)|ATTACHING TAG NOT ASSIGNED|SEATBELT (DRIVER)                                                         1\n",
       "DRIVING WITHOUT HEADLIGHTS|IMPROPER CHANGE OF LANE OR COURSE|SEATBELT (DRIVER)                                                                    1\n",
       "OTHER MOVING VIOLATIONS|SPEED|OBSTRUCTING THE ROADWAY|PROOF OF INSURANCE                                                                          1\n",
       "SEATBELT (DRIVER)|SEATBELT (PASSENGER)|SEATBELT (DRIVER)|SEATBELT (PASSENGER)|PROOF OF INSURANCE                                                  1\n",
       "EXPIRED TAG (6 MONTHS OR LESS)|FAILURE TO EXHIBIT DL UPON DEMAND|PROOF OF INSURANCE|PROOF OF INSURANCE|FAILURE TO EXHIBIT DL UPON DEMAND          1\n",
       "Name: violation, Length: 35385, dtype: int64"
      ]
     },
     "execution_count": 38,
     "metadata": {},
     "output_type": "execute_result"
    }
   ],
   "source": [
    "violation_filled = df_fl['violation'].fillna('NR')\n",
    "violation_filled.value_counts()"
   ]
  },
  {
   "cell_type": "code",
   "execution_count": 39,
   "metadata": {},
   "outputs": [],
   "source": [
    "violation_filled = violation_filled.str.split('|').str[0]"
   ]
  },
  {
   "cell_type": "markdown",
   "metadata": {},
   "source": [
    "Consolidate violations..."
   ]
  },
  {
   "cell_type": "code",
   "execution_count": 40,
   "metadata": {},
   "outputs": [],
   "source": [
    "violation_filled[violation_filled == 'SEATBELT (DRIVER)'] = 'SEATBELT'\n",
    "violation_filled[violation_filled == 'SEATBELT (PASSENGER)'] = 'SEATBELT'\n",
    "violation_filled[violation_filled == 'CHILD RESTRAINT'] = 'SEATBELT'\n",
    "\n",
    "violation_filled[violation_filled == 'EXPIRED TAG (MORE THAN 6 MONTHS)'] = 'REGISTRATION OR TAG'\n",
    "violation_filled[violation_filled == 'EXPIRED TAG (6 MONTHS OR LESS)'] = 'REGISTRATION OR TAG'\n",
    "violation_filled[violation_filled == 'OTHER TAG / REGISTRATION VIOLATIONS'] = 'REGISTRATION OR TAG'\n",
    "violation_filled[violation_filled == 'NO REGISTRATION'] = 'REGISTRATION OR TAG'\n",
    "violation_filled[violation_filled == 'ATTACHING TAG NOT ASSIGNED'] = 'REGISTRATION OR TAG'\n",
    "\n",
    "violation_filled[violation_filled == 'DRIVING WHILE LICENSE SUSPENDED / REVOKED'] = 'LICENSE'\n",
    "violation_filled[violation_filled == 'OTHER DRIVERS LICENSE VIOLATIONS'] = 'LICENSE'\n",
    "violation_filled[violation_filled == 'NO DRIVERS LICENSE'] = 'LICENSE'\n",
    "violation_filled[violation_filled == 'FAILURE TO EXHIBIT DL UPON DEMAND'] = 'LICENSE'\n",
    "violation_filled[violation_filled == 'EXPIRED DRIVERS LICENSE (4 MONTHS OR LESS)'] = 'LICENSE'\n",
    "violation_filled[violation_filled == 'EXPIRED DRIVERS LICENSE (MORE THAN 4 MONTHS)'] = 'LICENSE'\n",
    "violation_filled[violation_filled == 'VIOLATION OF DL RESTRICTIONS'] = 'LICENSE'\n",
    "violation_filled[violation_filled == 'PERMIT VIOLATION'] = 'LICENSE'\n",
    "\n",
    "violation_filled[violation_filled == 'IMPROPER TURN'] = 'IMPROPER DRIVING'\n",
    "violation_filled[violation_filled == 'IMPROPER PASSING'] = 'IMPROPER DRIVING'\n",
    "violation_filled[violation_filled == 'FOLLOWING TOO CLOSELY'] = 'IMPROPER DRVING'\n",
    "violation_filled[violation_filled == 'IMPROPER CHANGE OF LANE OR COURSE'] = 'IMPROPER DRIVING'\n",
    "violation_filled[violation_filled == 'CARELESS DRIVING'] = 'IMPROPER DRIVING'\n",
    "violation_filled[violation_filled == 'VIOLATIONS OF RIGHT OF WAY'] = 'IMPROPER DRIVING'\n",
    "violation_filled[violation_filled == 'IMPROPER BACKING'] = 'IMPROPER DRIVING'\n",
    "violation_filled[violation_filled == 'IMPROPER START'] = 'IMPROPER DRIVING'\n",
    "\n",
    "violation_filled[violation_filled == 'DUI'] = 'ALCOHOL'\n",
    "violation_filled[violation_filled == 'DUI ARREST - JUVENILE'] = 'ALCOHOL'\n",
    "violation_filled[violation_filled == 'JUVENILE .02 BAC SUSPENSION'] = 'ALCOHOL'\n",
    "violation_filled[violation_filled == 'OPEN CONTAINER (DRIVER)'] = 'ALCOHOL'\n",
    "violation_filled[violation_filled == 'OPEN CONTAINER (PASSENGER)'] = 'ALCOHOL'\n",
    "\n",
    "violation_filled[violation_filled == 'FAULTY EQUIPMENT'] = 'VEHICLE'\n",
    "violation_filled[violation_filled == 'EXHAUST SYSTEM'] = 'VEHICLE'\n",
    "violation_filled[violation_filled == 'LOADS ON VEHICLE'] = 'VEHICLE'\n",
    "violation_filled[violation_filled == 'BUMPER HEIGHTS'] = 'VEHICLE'\n",
    "violation_filled[violation_filled == 'MOTOR VEHICLE NOISE'] = 'VEHICLE'\n",
    "violation_filled[violation_filled == 'WINDOW TINT'] = 'VEHICLE'\n",
    "\n",
    "violation_filled[violation_filled == 'BATTERY ON A POLICE OFFICER'] = 'AGGRAVATED'\n",
    "violation_filled[violation_filled == 'RESISTING ARREST WITH / WITHOUT VIOLENCE'] = 'AGGRAVATED'\n",
    "violation_filled[violation_filled == 'LEAVING THE SCENE'] = 'AGGRAVATED'\n",
    "violation_filled[violation_filled == 'FLEEING AND ATTEMPTING TO ELUDE'] = 'AGGRAVATED'\n",
    "violation_filled[violation_filled == 'FAILURE TO OBEY A POLICE OFFICER'] = 'AGGRAVATED'\n",
    "violation_filled[violation_filled == 'RECKLESS DRIVING'] = 'AGGRAVATED'\n",
    "violation_filled[violation_filled == 'DRIVING ON WRONG SIDE OF ROAD'] = 'AGGRAVATED'\n",
    "violation_filled[violation_filled == 'FALSE ACCIDENT REPORT'] = 'AGGRAVATED'\n",
    "\n",
    "violation_filled[violation_filled == 'CMV INSPECTION'] = 'COMMERCIAL'\n",
    "violation_filled[violation_filled == 'CDL VIOLATION'] = 'COMMERCIAL'\n",
    "violation_filled[violation_filled == 'MAXIMUM WIDTH, HEIGHT AND LENGTH'] = 'COMMERCIAL'\n",
    "violation_filled[violation_filled == 'WEIGHT VIOLATION'] = 'COMMERCIAL'\n",
    "violation_filled[violation_filled == 'DRIVER LOG VIOLATION'] = 'COMMERCIAL'\n",
    "violation_filled[violation_filled == 'OUT OF SERVICE VIOLATION'] = 'COMMERCIAL'\n",
    "\n",
    "violation_filled[violation_filled == 'OTHER NON MOVING VIOLATIONS'] = 'OTHER NON MOVING'\n",
    "violation_filled[violation_filled == 'LEAVING CHILDREN UTTENDED IN MV'] = 'OTHER NON MOVING'\n",
    "violation_filled[violation_filled == 'CRIMES AGAINST PERSONS'] = 'OTHER NON MOVING'\n",
    "violation_filled[violation_filled == 'PROPERTY CRIMES'] = 'OTHER NON MOVING'\n",
    "violation_filled[violation_filled == 'OTHER CRIMIL VIOLATIONS'] = 'OTHER NON MOVING'\n",
    "violation_filled[violation_filled == 'OBSTRUCTING THE ROADWAY'] = 'OTHER NON MOVING'\n",
    "\n",
    "violation_filled[violation_filled == 'MISCELLANEOUS MOTORCYCLE / MOPEDS STATUTES'] = 'OTHER'\n",
    "violation_filled[violation_filled == 'BICYCLE VIOLATIONS'] = 'OTHER'\n",
    "violation_filled[violation_filled == 'PASSING STOPPED SCHOOL BUS'] = 'OTHER'\n",
    "violation_filled[violation_filled == 'PARKING'] = 'OTHER'\n",
    "violation_filled[violation_filled == 'OTHER CRIMIL TRAFFIC VIOLATIONS'] = 'OTHER'\n",
    "\n",
    "violation_filled[violation_filled == 'DRUG / CONTRABAND OFFENSE'] = 'CONTRABAND'"
   ]
  },
  {
   "cell_type": "code",
   "execution_count": 41,
   "metadata": {},
   "outputs": [
    {
     "name": "stdout",
     "output_type": "stream",
     "text": [
      "SPEED                                   2709193\n",
      "NR                                       422602\n",
      "SEATBELT                                 421578\n",
      "VEHICLE                                  304454\n",
      "REGISTRATION OR TAG                      283770\n",
      "COMMERCIAL                               260361\n",
      "VIOLATIONS OF TRAFFIC CONTROL DEVICE     202270\n",
      "OTHER MOVING VIOLATIONS                  152400\n",
      "PROOF OF INSURANCE                       133109\n",
      "IMPROPER DRIVING                         131723\n",
      "LICENSE                                  131179\n",
      "MOVE OVER LAW                             86800\n",
      "OTHER NON MOVING                          83064\n",
      "IMPROPER DRVING                           30314\n",
      "DRIVING WITHOUT HEADLIGHTS                26527\n",
      "TOLL EVASION                              12393\n",
      "ALCOHOL                                   11925\n",
      "OTHER                                      8711\n",
      "AGGRAVATED                                 7088\n",
      "CONTRABAND                                 4889\n",
      "Name: violation, dtype: int64\n",
      "20\n"
     ]
    }
   ],
   "source": [
    "print(violation_filled.value_counts())\n",
    "print(len(violation_filled.value_counts()))"
   ]
  },
  {
   "cell_type": "markdown",
   "metadata": {},
   "source": [
    "Whew, twenty seems like a good number, and even with the small numbers, the contraband, aggravated, alcohol categories should carry information. Now assign this back to the violation column."
   ]
  },
  {
   "cell_type": "code",
   "execution_count": 42,
   "metadata": {},
   "outputs": [],
   "source": [
    "df_fl['violation'] = violation_filled"
   ]
  },
  {
   "cell_type": "code",
   "execution_count": 43,
   "metadata": {},
   "outputs": [
    {
     "data": {
      "text/plain": [
       "0                  NR\n",
       "1               SPEED\n",
       "2             ALCOHOL\n",
       "3             LICENSE\n",
       "4                  NR\n",
       "5                  NR\n",
       "6               SPEED\n",
       "7             VEHICLE\n",
       "8    OTHER NON MOVING\n",
       "9                  NR\n",
       "Name: violation, dtype: object"
      ]
     },
     "execution_count": 43,
     "metadata": {},
     "output_type": "execute_result"
    }
   ],
   "source": [
    "df_fl['violation'].head(10)"
   ]
  },
  {
   "cell_type": "markdown",
   "metadata": {},
   "source": [
    "## Check numerical columns for outliers"
   ]
  },
  {
   "cell_type": "markdown",
   "metadata": {},
   "source": [
    "Forgot to do this before, but need to check the age columns for outliers."
   ]
  },
  {
   "cell_type": "code",
   "execution_count": 44,
   "metadata": {},
   "outputs": [
    {
     "data": {
      "text/plain": [
       "10.0"
      ]
     },
     "execution_count": 44,
     "metadata": {},
     "output_type": "execute_result"
    }
   ],
   "source": [
    "df_fl['subject_age'].min()"
   ]
  },
  {
   "cell_type": "code",
   "execution_count": 45,
   "metadata": {},
   "outputs": [
    {
     "data": {
      "text/plain": [
       "110.0"
      ]
     },
     "execution_count": 45,
     "metadata": {},
     "output_type": "execute_result"
    }
   ],
   "source": [
    "df_fl['subject_age'].max()"
   ]
  },
  {
   "cell_type": "markdown",
   "metadata": {},
   "source": [
    "Assume anything under 16 and over 90 is an outlier."
   ]
  },
  {
   "cell_type": "code",
   "execution_count": 46,
   "metadata": {},
   "outputs": [],
   "source": [
    "df_fl = df_fl[df_fl['subject_age'] >= 16]\n",
    "df_fl = df_fl[df_fl['subject_age'] <= 90]"
   ]
  },
  {
   "cell_type": "code",
   "execution_count": 47,
   "metadata": {},
   "outputs": [
    {
     "name": "stdout",
     "output_type": "stream",
     "text": [
      "16.0\n",
      "90.0\n"
     ]
    }
   ],
   "source": [
    "print(df_fl['subject_age'].min())\n",
    "print(df_fl['subject_age'].max())"
   ]
  },
  {
   "cell_type": "code",
   "execution_count": 48,
   "metadata": {},
   "outputs": [
    {
     "data": {
      "text/plain": [
       "<matplotlib.axes._subplots.AxesSubplot at 0x1a15110f0>"
      ]
     },
     "execution_count": 48,
     "metadata": {},
     "output_type": "execute_result"
    },
    {
     "data": {
      "image/png": "[encoded data removed]",
      "text/plain": [
       "<Figure size 432x288 with 1 Axes>"
      ]
     },
     "metadata": {
      "needs_background": "light"
     },
     "output_type": "display_data"
    }
   ],
   "source": [
    "df_fl['subject_age'].hist()"
   ]
  },
  {
   "cell_type": "markdown",
   "metadata": {},
   "source": [
    "Check out officer age"
   ]
  },
  {
   "cell_type": "code",
   "execution_count": 49,
   "metadata": {},
   "outputs": [
    {
     "data": {
      "text/plain": [
       "count    3.296237e+06\n",
       "mean     3.806216e+01\n",
       "std      9.685584e+00\n",
       "min      1.600000e+01\n",
       "25%      3.000000e+01\n",
       "50%      3.800000e+01\n",
       "75%      4.600000e+01\n",
       "max      6.900000e+01\n",
       "Name: officer_age, dtype: float64"
      ]
     },
     "execution_count": 49,
     "metadata": {},
     "output_type": "execute_result"
    }
   ],
   "source": [
    "df_fl['officer_age'].describe()"
   ]
  },
  {
   "cell_type": "markdown",
   "metadata": {},
   "source": [
    "Assume youngest officer is 18"
   ]
  },
  {
   "cell_type": "code",
   "execution_count": 50,
   "metadata": {},
   "outputs": [],
   "source": [
    "df_fl = df_fl[df_fl['officer_age'] >= 18]"
   ]
  },
  {
   "cell_type": "code",
   "execution_count": 51,
   "metadata": {},
   "outputs": [
    {
     "data": {
      "text/plain": [
       "<matplotlib.axes._subplots.AxesSubplot at 0x1a11ab0f0>"
      ]
     },
     "execution_count": 51,
     "metadata": {},
     "output_type": "execute_result"
    },
    {
     "data": {
      "image/png": "[encoded data removed]",
      "text/plain": [
       "<Figure size 432x288 with 1 Axes>"
      ]
     },
     "metadata": {
      "needs_background": "light"
     },
     "output_type": "display_data"
    }
   ],
   "source": [
    "df_fl['officer_age'].hist()"
   ]
  },
  {
   "cell_type": "markdown",
   "metadata": {},
   "source": [
    "Looks ok, check out officer years of service"
   ]
  },
  {
   "cell_type": "code",
   "execution_count": 52,
   "metadata": {},
   "outputs": [
    {
     "data": {
      "text/plain": [
       "count    3.294672e+06\n",
       "mean     5.482477e+00\n",
       "std      6.943282e+00\n",
       "min     -6.000000e+00\n",
       "25%      0.000000e+00\n",
       "50%      2.000000e+00\n",
       "75%      9.000000e+00\n",
       "max      6.000000e+01\n",
       "Name: officer_years_of_service, dtype: float64"
      ]
     },
     "execution_count": 52,
     "metadata": {},
     "output_type": "execute_result"
    }
   ],
   "source": [
    "df_fl['officer_years_of_service'].describe()"
   ]
  },
  {
   "cell_type": "code",
   "execution_count": 53,
   "metadata": {},
   "outputs": [
    {
     "data": {
      "text/plain": [
       "16551"
      ]
     },
     "execution_count": 53,
     "metadata": {},
     "output_type": "execute_result"
    }
   ],
   "source": [
    "sum(df_fl['officer_years_of_service'] < 0)"
   ]
  },
  {
   "cell_type": "code",
   "execution_count": 54,
   "metadata": {},
   "outputs": [
    {
     "data": {
      "text/plain": [
       "<matplotlib.axes._subplots.AxesSubplot at 0x1a0d68b70>"
      ]
     },
     "execution_count": 54,
     "metadata": {},
     "output_type": "execute_result"
    },
    {
     "data": {
      "image/png": "[encoded data removed]",
      "text/plain": [
       "<Figure size 432x288 with 1 Axes>"
      ]
     },
     "metadata": {
      "needs_background": "light"
     },
     "output_type": "display_data"
    }
   ],
   "source": [
    "df_fl['officer_years_of_service'].hist()"
   ]
  },
  {
   "cell_type": "code",
   "execution_count": 55,
   "metadata": {},
   "outputs": [],
   "source": [
    "neg_off_years = df_fl[df_fl['officer_years_of_service'] < 0]"
   ]
  },
  {
   "cell_type": "code",
   "execution_count": 56,
   "metadata": {},
   "outputs": [
    {
     "data": {
      "text/html": [
       "<div>\n",
       "<style scoped>\n",
       "    .dataframe tbody tr th:only-of-type {\n",
       "        vertical-align: middle;\n",
       "    }\n",
       "\n",
       "    .dataframe tbody tr th {\n",
       "        vertical-align: top;\n",
       "    }\n",
       "\n",
       "    .dataframe thead th {\n",
       "        text-align: right;\n",
       "    }\n",
       "</style>\n",
       "<table border=\"1\" class=\"dataframe\">\n",
       "  <thead>\n",
       "    <tr style=\"text-align: right;\">\n",
       "      <th></th>\n",
       "      <th>datetime</th>\n",
       "      <th>county_name</th>\n",
       "      <th>subject_age</th>\n",
       "      <th>subject_race</th>\n",
       "      <th>subject_sex</th>\n",
       "      <th>officer_age</th>\n",
       "      <th>officer_race</th>\n",
       "      <th>officer_sex</th>\n",
       "      <th>officer_years_of_service</th>\n",
       "      <th>violation</th>\n",
       "      <th>outcome</th>\n",
       "      <th>frisk_performed</th>\n",
       "      <th>search_conducted</th>\n",
       "      <th>search_basis</th>\n",
       "      <th>vehicle_registration_state</th>\n",
       "      <th>vehicle_region</th>\n",
       "    </tr>\n",
       "  </thead>\n",
       "  <tbody>\n",
       "    <tr>\n",
       "      <th>330</th>\n",
       "      <td>2010-01-23 12:11:16</td>\n",
       "      <td>LEON</td>\n",
       "      <td>47.0</td>\n",
       "      <td>black</td>\n",
       "      <td>female</td>\n",
       "      <td>53.0</td>\n",
       "      <td>white</td>\n",
       "      <td>male</td>\n",
       "      <td>-5.0</td>\n",
       "      <td>PROOF OF INSURANCE</td>\n",
       "      <td>citation</td>\n",
       "      <td>False</td>\n",
       "      <td>False</td>\n",
       "      <td>none</td>\n",
       "      <td>FL</td>\n",
       "      <td>Instate</td>\n",
       "    </tr>\n",
       "    <tr>\n",
       "      <th>331</th>\n",
       "      <td>2010-01-23 12:11:51</td>\n",
       "      <td>LEON</td>\n",
       "      <td>47.0</td>\n",
       "      <td>black</td>\n",
       "      <td>female</td>\n",
       "      <td>53.0</td>\n",
       "      <td>white</td>\n",
       "      <td>male</td>\n",
       "      <td>-5.0</td>\n",
       "      <td>PROOF OF INSURANCE</td>\n",
       "      <td>citation</td>\n",
       "      <td>False</td>\n",
       "      <td>False</td>\n",
       "      <td>none</td>\n",
       "      <td>FL</td>\n",
       "      <td>Instate</td>\n",
       "    </tr>\n",
       "    <tr>\n",
       "      <th>337</th>\n",
       "      <td>2010-01-23 12:33:08</td>\n",
       "      <td>LEON</td>\n",
       "      <td>25.0</td>\n",
       "      <td>white</td>\n",
       "      <td>female</td>\n",
       "      <td>53.0</td>\n",
       "      <td>white</td>\n",
       "      <td>male</td>\n",
       "      <td>-5.0</td>\n",
       "      <td>VEHICLE</td>\n",
       "      <td>warning</td>\n",
       "      <td>False</td>\n",
       "      <td>False</td>\n",
       "      <td>none</td>\n",
       "      <td>FL</td>\n",
       "      <td>Instate</td>\n",
       "    </tr>\n",
       "    <tr>\n",
       "      <th>341</th>\n",
       "      <td>2010-01-23 12:50:16</td>\n",
       "      <td>LEON</td>\n",
       "      <td>24.0</td>\n",
       "      <td>hispanic</td>\n",
       "      <td>male</td>\n",
       "      <td>53.0</td>\n",
       "      <td>white</td>\n",
       "      <td>male</td>\n",
       "      <td>-5.0</td>\n",
       "      <td>SEATBELT</td>\n",
       "      <td>citation</td>\n",
       "      <td>False</td>\n",
       "      <td>False</td>\n",
       "      <td>none</td>\n",
       "      <td>FL</td>\n",
       "      <td>Instate</td>\n",
       "    </tr>\n",
       "    <tr>\n",
       "      <th>347</th>\n",
       "      <td>2010-01-23 13:06:11</td>\n",
       "      <td>LEON</td>\n",
       "      <td>56.0</td>\n",
       "      <td>black</td>\n",
       "      <td>female</td>\n",
       "      <td>53.0</td>\n",
       "      <td>white</td>\n",
       "      <td>male</td>\n",
       "      <td>-5.0</td>\n",
       "      <td>LICENSE</td>\n",
       "      <td>citation</td>\n",
       "      <td>False</td>\n",
       "      <td>False</td>\n",
       "      <td>none</td>\n",
       "      <td>FL</td>\n",
       "      <td>Instate</td>\n",
       "    </tr>\n",
       "  </tbody>\n",
       "</table>\n",
       "</div>"
      ],
      "text/plain": [
       "               datetime county_name  subject_age subject_race subject_sex  officer_age officer_race officer_sex  officer_years_of_service           violation   outcome  frisk_performed  search_conducted search_basis vehicle_registration_state vehicle_region\n",
       "330 2010-01-23 12:11:16        LEON         47.0        black      female         53.0        white        male                      -5.0  PROOF OF INSURANCE  citation            False             False         none                         FL        Instate\n",
       "331 2010-01-23 12:11:51        LEON         47.0        black      female         53.0        white        male                      -5.0  PROOF OF INSURANCE  citation            False             False         none                         FL        Instate\n",
       "337 2010-01-23 12:33:08        LEON         25.0        white      female         53.0        white        male                      -5.0             VEHICLE   warning            False             False         none                         FL        Instate\n",
       "341 2010-01-23 12:50:16        LEON         24.0     hispanic        male         53.0        white        male                      -5.0            SEATBELT  citation            False             False         none                         FL        Instate\n",
       "347 2010-01-23 13:06:11        LEON         56.0        black      female         53.0        white        male                      -5.0             LICENSE  citation            False             False         none                         FL        Instate"
      ]
     },
     "execution_count": 56,
     "metadata": {},
     "output_type": "execute_result"
    }
   ],
   "source": [
    "neg_off_years.head()"
   ]
  },
  {
   "cell_type": "markdown",
   "metadata": {},
   "source": [
    "Given the officer ages, looks like the negative signs are just an error. Assume the absolute value is correct."
   ]
  },
  {
   "cell_type": "code",
   "execution_count": 57,
   "metadata": {},
   "outputs": [],
   "source": [
    "df_fl['officer_years_of_service'] = np.abs(df_fl['officer_years_of_service'])"
   ]
  },
  {
   "cell_type": "markdown",
   "metadata": {},
   "source": [
    "## Create features for day of week, month, and time of day"
   ]
  },
  {
   "cell_type": "markdown",
   "metadata": {},
   "source": [
    "Create day of week, month, and time bin columns."
   ]
  },
  {
   "cell_type": "code",
   "execution_count": 58,
   "metadata": {},
   "outputs": [],
   "source": [
    "df_fl['day_of_week'] = df_fl['datetime'].dt.day_name()\n",
    "df_fl['month'] = df_fl['datetime'].dt.month_name()\n",
    "df_fl['time_of_day'] = pd.cut(df_fl['datetime'].dt.hour, [0,5,10,16,20,24], \n",
    "                              labels=['EarlyMorning','MorningRush','Midday','EveningRush', 'LateNight'])"
   ]
  },
  {
   "cell_type": "code",
   "execution_count": 59,
   "metadata": {},
   "outputs": [
    {
     "data": {
      "text/html": [
       "<div>\n",
       "<style scoped>\n",
       "    .dataframe tbody tr th:only-of-type {\n",
       "        vertical-align: middle;\n",
       "    }\n",
       "\n",
       "    .dataframe tbody tr th {\n",
       "        vertical-align: top;\n",
       "    }\n",
       "\n",
       "    .dataframe thead th {\n",
       "        text-align: right;\n",
       "    }\n",
       "</style>\n",
       "<table border=\"1\" class=\"dataframe\">\n",
       "  <thead>\n",
       "    <tr style=\"text-align: right;\">\n",
       "      <th></th>\n",
       "      <th>datetime</th>\n",
       "      <th>county_name</th>\n",
       "      <th>subject_age</th>\n",
       "      <th>subject_race</th>\n",
       "      <th>subject_sex</th>\n",
       "      <th>officer_age</th>\n",
       "      <th>officer_race</th>\n",
       "      <th>officer_sex</th>\n",
       "      <th>officer_years_of_service</th>\n",
       "      <th>violation</th>\n",
       "      <th>outcome</th>\n",
       "      <th>frisk_performed</th>\n",
       "      <th>search_conducted</th>\n",
       "      <th>search_basis</th>\n",
       "      <th>vehicle_registration_state</th>\n",
       "      <th>vehicle_region</th>\n",
       "      <th>day_of_week</th>\n",
       "      <th>month</th>\n",
       "      <th>time_of_day</th>\n",
       "    </tr>\n",
       "  </thead>\n",
       "  <tbody>\n",
       "    <tr>\n",
       "      <th>1</th>\n",
       "      <td>2010-01-06 16:14:43</td>\n",
       "      <td>DUVAL</td>\n",
       "      <td>23.0</td>\n",
       "      <td>white</td>\n",
       "      <td>female</td>\n",
       "      <td>31.0</td>\n",
       "      <td>black</td>\n",
       "      <td>male</td>\n",
       "      <td>8.0</td>\n",
       "      <td>SPEED</td>\n",
       "      <td>citation</td>\n",
       "      <td>False</td>\n",
       "      <td>False</td>\n",
       "      <td>none</td>\n",
       "      <td>NC</td>\n",
       "      <td>South Atlantic</td>\n",
       "      <td>Wednesday</td>\n",
       "      <td>January</td>\n",
       "      <td>Midday</td>\n",
       "    </tr>\n",
       "    <tr>\n",
       "      <th>2</th>\n",
       "      <td>2010-01-08 19:39:31</td>\n",
       "      <td>DUVAL</td>\n",
       "      <td>45.0</td>\n",
       "      <td>white</td>\n",
       "      <td>female</td>\n",
       "      <td>29.0</td>\n",
       "      <td>white</td>\n",
       "      <td>male</td>\n",
       "      <td>3.0</td>\n",
       "      <td>ALCOHOL</td>\n",
       "      <td>arrest</td>\n",
       "      <td>False</td>\n",
       "      <td>False</td>\n",
       "      <td>none</td>\n",
       "      <td>FL</td>\n",
       "      <td>Instate</td>\n",
       "      <td>Friday</td>\n",
       "      <td>January</td>\n",
       "      <td>EveningRush</td>\n",
       "    </tr>\n",
       "    <tr>\n",
       "      <th>3</th>\n",
       "      <td>2010-01-11 11:56:34</td>\n",
       "      <td>ST LUCIE</td>\n",
       "      <td>41.0</td>\n",
       "      <td>white</td>\n",
       "      <td>male</td>\n",
       "      <td>26.0</td>\n",
       "      <td>white</td>\n",
       "      <td>male</td>\n",
       "      <td>3.0</td>\n",
       "      <td>LICENSE</td>\n",
       "      <td>arrest</td>\n",
       "      <td>False</td>\n",
       "      <td>False</td>\n",
       "      <td>none</td>\n",
       "      <td>FL</td>\n",
       "      <td>Instate</td>\n",
       "      <td>Monday</td>\n",
       "      <td>January</td>\n",
       "      <td>Midday</td>\n",
       "    </tr>\n",
       "    <tr>\n",
       "      <th>6</th>\n",
       "      <td>2010-01-15 09:18:02</td>\n",
       "      <td>GADSDEN</td>\n",
       "      <td>26.0</td>\n",
       "      <td>white</td>\n",
       "      <td>male</td>\n",
       "      <td>47.0</td>\n",
       "      <td>white</td>\n",
       "      <td>male</td>\n",
       "      <td>0.0</td>\n",
       "      <td>SPEED</td>\n",
       "      <td>warning</td>\n",
       "      <td>False</td>\n",
       "      <td>False</td>\n",
       "      <td>none</td>\n",
       "      <td>NY</td>\n",
       "      <td>Mid Atlantic</td>\n",
       "      <td>Friday</td>\n",
       "      <td>January</td>\n",
       "      <td>MorningRush</td>\n",
       "    </tr>\n",
       "    <tr>\n",
       "      <th>7</th>\n",
       "      <td>2010-01-15 10:16:59</td>\n",
       "      <td>GADSDEN</td>\n",
       "      <td>42.0</td>\n",
       "      <td>hispanic</td>\n",
       "      <td>male</td>\n",
       "      <td>47.0</td>\n",
       "      <td>white</td>\n",
       "      <td>male</td>\n",
       "      <td>0.0</td>\n",
       "      <td>VEHICLE</td>\n",
       "      <td>NaN</td>\n",
       "      <td>False</td>\n",
       "      <td>True</td>\n",
       "      <td>consent</td>\n",
       "      <td>FL</td>\n",
       "      <td>Instate</td>\n",
       "      <td>Friday</td>\n",
       "      <td>January</td>\n",
       "      <td>MorningRush</td>\n",
       "    </tr>\n",
       "  </tbody>\n",
       "</table>\n",
       "</div>"
      ],
      "text/plain": [
       "             datetime county_name  subject_age subject_race subject_sex  officer_age officer_race officer_sex  officer_years_of_service violation   outcome  frisk_performed  search_conducted search_basis vehicle_registration_state  vehicle_region day_of_week    month  time_of_day\n",
       "1 2010-01-06 16:14:43       DUVAL         23.0        white      female         31.0        black        male                       8.0     SPEED  citation            False             False         none                         NC  South Atlantic   Wednesday  January       Midday\n",
       "2 2010-01-08 19:39:31       DUVAL         45.0        white      female         29.0        white        male                       3.0   ALCOHOL    arrest            False             False         none                         FL         Instate      Friday  January  EveningRush\n",
       "3 2010-01-11 11:56:34    ST LUCIE         41.0        white        male         26.0        white        male                       3.0   LICENSE    arrest            False             False         none                         FL         Instate      Monday  January       Midday\n",
       "6 2010-01-15 09:18:02     GADSDEN         26.0        white        male         47.0        white        male                       0.0     SPEED   warning            False             False         none                         NY    Mid Atlantic      Friday  January  MorningRush\n",
       "7 2010-01-15 10:16:59     GADSDEN         42.0     hispanic        male         47.0        white        male                       0.0   VEHICLE       NaN            False              True      consent                         FL         Instate      Friday  January  MorningRush"
      ]
     },
     "execution_count": 59,
     "metadata": {},
     "output_type": "execute_result"
    }
   ],
   "source": [
    "df_fl.head()"
   ]
  },
  {
   "cell_type": "markdown",
   "metadata": {},
   "source": [
    "Now, check how many rows we keep if we drop all missing values."
   ]
  },
  {
   "cell_type": "code",
   "execution_count": 60,
   "metadata": {},
   "outputs": [
    {
     "name": "stdout",
     "output_type": "stream",
     "text": [
      "(2805687, 19)\n",
      "489509\n"
     ]
    }
   ],
   "source": [
    "df_fl_dropnas = df_fl.dropna()\n",
    "print(df_fl_dropnas.shape)\n",
    "print(df_fl.shape[0] - df_fl_dropnas.shape[0])"
   ]
  },
  {
   "cell_type": "markdown",
   "metadata": {},
   "source": [
    "Ok, so looks like the vast majority of rows we dropped above were dropped here also. Too bad, but at least the violation column is cleaned up."
   ]
  },
  {
   "cell_type": "markdown",
   "metadata": {},
   "source": [
    "## Save full and NA-free versions of dataset"
   ]
  },
  {
   "cell_type": "markdown",
   "metadata": {},
   "source": [
    "Now save both the na-populated and na-free data-frames. Use na-free for now for EDA and modeling. Circle back to na-populated for imputation, time-permitting, and/or for use with tree-based models."
   ]
  },
  {
   "cell_type": "code",
   "execution_count": 61,
   "metadata": {},
   "outputs": [],
   "source": [
    "df_fl_full_clean = df_fl.copy()\n",
    "del df_fl"
   ]
  },
  {
   "cell_type": "code",
   "execution_count": 62,
   "metadata": {},
   "outputs": [],
   "source": [
    "pickle.dump(df_fl_full_clean, open('data/df_fl_full_clean.pkl', 'wb'))\n",
    "pickle.dump(df_fl_dropnas, open('data/df_fl_dropnas.pkl', 'wb'))"
   ]
  },
  {
   "cell_type": "markdown",
   "metadata": {},
   "source": [
    "## Quick pairplot to see target-feature relationship "
   ]
  },
  {
   "cell_type": "code",
   "execution_count": 63,
   "metadata": {},
   "outputs": [
    {
     "data": {
      "text/plain": [
       "<seaborn.axisgrid.PairGrid at 0x1aaad9e668>"
      ]
     },
     "execution_count": 63,
     "metadata": {},
     "output_type": "execute_result"
    },
    {
     "data": {
      "image/png": "[encoded data removed]",
      "text/plain": [
       "<Figure size 976.375x900 with 30 Axes>"
      ]
     },
     "metadata": {
      "needs_background": "light"
     },
     "output_type": "display_data"
    }
   ],
   "source": [
    "sns.pairplot(df_fl_dropnas, hue='outcome')"
   ]
  },
  {
   "cell_type": "code",
   "execution_count": 40,
   "metadata": {},
   "outputs": [],
   "source": [
    "def impute_age(df, col, method):\n",
    "    if method=='mean':\n",
    "        df[col] = df[col].fillna(df[col].mean())\n",
    "    elif method=='median':\n",
    "        df[col] = df[col].fillna(df[col].median())\n",
    "    return df"
   ]
  },
  {
   "cell_type": "code",
   "execution_count": 51,
   "metadata": {},
   "outputs": [],
   "source": [
    "def missing_to_false(df, cols, fillval='False'):\n",
    "    \"\"\"\n",
    "    Replaces missing values with fillval\n",
    "    \n",
    "    fillval = 'False' by default, else choose 0\n",
    "    \"\"\"\n",
    "    for col in cols:\n",
    "        df[col].fillna(fillval)\n",
    "    return df"
   ]
  },
  {
   "cell_type": "code",
   "execution_count": null,
   "metadata": {},
   "outputs": [],
   "source": [
    "def plot_features(df, sample_size=1000, drop_cols=None):\n",
    "    if drop_cols:\n",
    "        sample = (df.drop(['product_id','user_id','latest_cart'], axis=1)\n",
    "                .sample(sample_size, random_state=44)) \n",
    "    else:\n",
    "        sample = df.sample(sample_size, random_state=44)\n",
    "        sns.pairplot(sample,hue='in_cart', plot_kws=dict(alpha=.3, edgecolor='none'))\n",
    "\n",
    "plot_features(df_X)"
   ]
  }
 ],
 "metadata": {
  "kernelspec": {
   "display_name": "Python 3",
   "language": "python",
   "name": "python3"
  },
  "language_info": {
   "codemirror_mode": {
    "name": "ipython",
    "version": 3
   },
   "file_extension": ".py",
   "mimetype": "text/x-python",
   "name": "python",
   "nbconvert_exporter": "python",
   "pygments_lexer": "ipython3",
   "version": "3.7.3"
  }
 },
 "nbformat": 4,
 "nbformat_minor": 2
}
